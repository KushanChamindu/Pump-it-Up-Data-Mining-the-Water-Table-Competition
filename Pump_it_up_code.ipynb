{
  "nbformat": 4,
  "nbformat_minor": 0,
  "metadata": {
    "colab": {
      "name": "Pump.ipynb",
      "provenance": [],
      "collapsed_sections": [
        "ZmKUyqIsdjM_",
        "LvVWkN7SeIHj",
        "CQIcdY6qe0M7",
        "DbYL5RSlfq2c",
        "Z6kxyrS_3c32",
        "ltBKxkse9VV1",
        "ODS84-G320MD",
        "26kxM8Y823HR",
        "0OA7hsYqQmwW",
        "-9mCTD0BQqV-",
        "-lUOckjAZrJj",
        "fP2iMMUHZ3DL",
        "OkzhEx4mZ-sk",
        "QmsDbFT1aFK7",
        "pNU_XSaAZmfc",
        "7O81Y-24ejBR",
        "trlpXsaneW0p",
        "Hx3ybcxggIyg",
        "L9zJXN-YN0LK",
        "A1h-V7LERczI",
        "KE7-8YNNeeqx",
        "HfJNM0bchgKt",
        "NHLkAXc6YPl-",
        "FxCH184GPsm2"
      ],
      "history_visible": true,
      "authorship_tag": "ABX9TyNPaQP8IgP69KnME1L7uem4",
      "include_colab_link": true
    },
    "kernelspec": {
      "name": "python3",
      "display_name": "Python 3"
    },
    "language_info": {
      "name": "python"
    }
  },
  "cells": [
    {
      "cell_type": "markdown",
      "metadata": {
        "id": "view-in-github",
        "colab_type": "text"
      },
      "source": [
        "<a href=\"https://colab.research.google.com/github/KushanChamindu/Pump-it-Up-Data-Mining-the-Water-Table-Competition/blob/main/Pump_it_up_code.ipynb\" target=\"_parent\"><img src=\"https://colab.research.google.com/assets/colab-badge.svg\" alt=\"Open In Colab\"/></a>"
      ]
    },
    {
      "cell_type": "code",
      "metadata": {
        "colab": {
          "base_uri": "https://localhost:8080/"
        },
        "id": "QtlfAnyshHGW",
        "outputId": "c7ed9326-ea93-44a5-f155-906a2f102d70"
      },
      "source": [
        "from google.colab import drive\n",
        "drive.mount('/content/drive')"
      ],
      "execution_count": 284,
      "outputs": [
        {
          "output_type": "stream",
          "name": "stdout",
          "text": [
            "Drive already mounted at /content/drive; to attempt to forcibly remount, call drive.mount(\"/content/drive\", force_remount=True).\n"
          ]
        }
      ]
    },
    {
      "cell_type": "code",
      "metadata": {
        "colab": {
          "base_uri": "https://localhost:8080/"
        },
        "id": "lU_MZJQYpf8D",
        "outputId": "a87735f9-81b4-49ae-9764-e5bcda8e8eb1"
      },
      "source": [
        "!pip install --upgrade category_encoders"
      ],
      "execution_count": 285,
      "outputs": [
        {
          "output_type": "stream",
          "name": "stdout",
          "text": [
            "Requirement already satisfied: category_encoders in /usr/local/lib/python3.7/dist-packages (2.2.2)\n",
            "Requirement already satisfied: scikit-learn>=0.20.0 in /usr/local/lib/python3.7/dist-packages (from category_encoders) (0.22.2.post1)\n",
            "Requirement already satisfied: scipy>=1.0.0 in /usr/local/lib/python3.7/dist-packages (from category_encoders) (1.4.1)\n",
            "Requirement already satisfied: numpy>=1.14.0 in /usr/local/lib/python3.7/dist-packages (from category_encoders) (1.19.5)\n",
            "Requirement already satisfied: pandas>=0.21.1 in /usr/local/lib/python3.7/dist-packages (from category_encoders) (1.1.5)\n",
            "Requirement already satisfied: patsy>=0.5.1 in /usr/local/lib/python3.7/dist-packages (from category_encoders) (0.5.1)\n",
            "Requirement already satisfied: statsmodels>=0.9.0 in /usr/local/lib/python3.7/dist-packages (from category_encoders) (0.10.2)\n",
            "Requirement already satisfied: pytz>=2017.2 in /usr/local/lib/python3.7/dist-packages (from pandas>=0.21.1->category_encoders) (2018.9)\n",
            "Requirement already satisfied: python-dateutil>=2.7.3 in /usr/local/lib/python3.7/dist-packages (from pandas>=0.21.1->category_encoders) (2.8.2)\n",
            "Requirement already satisfied: six in /usr/local/lib/python3.7/dist-packages (from patsy>=0.5.1->category_encoders) (1.15.0)\n",
            "Requirement already satisfied: joblib>=0.11 in /usr/local/lib/python3.7/dist-packages (from scikit-learn>=0.20.0->category_encoders) (1.0.1)\n"
          ]
        }
      ]
    },
    {
      "cell_type": "code",
      "metadata": {
        "id": "xMf3npS9oYUF"
      },
      "source": [
        "import numpy as np # linear algebra\n",
        "import pandas as pd # data processing, CSV file I/O (e.g. pd.read_csv)\n",
        "from pandas.api.types import CategoricalDtype\n",
        "from sklearn.ensemble import RandomForestClassifier\n",
        "from sklearn.model_selection import  KFold,cross_val_score\n",
        "from sklearn.feature_selection import mutual_info_classif\n",
        "import matplotlib.pyplot as plt\n",
        "import seaborn as sns\n",
        "from sklearn.cluster import KMeans\n",
        "from sklearn.decomposition import PCA\n",
        "from category_encoders import MEstimateEncoder\n",
        "import random\n",
        "from sklearn.model_selection import train_test_split\n",
        "from sklearn.metrics import accuracy_score, balanced_accuracy_score\n",
        "from xgboost import XGBClassifier\n",
        "from imblearn.over_sampling import SMOTE"
      ],
      "execution_count": 286,
      "outputs": []
    },
    {
      "cell_type": "markdown",
      "metadata": {
        "id": "cYNNPVswq0hk"
      },
      "source": [
        "###Load data"
      ]
    },
    {
      "cell_type": "code",
      "metadata": {
        "id": "5QHjAYKmowJ0"
      },
      "source": [
        "drive_path_for_data = \"/content/drive/MyDrive/Semester 7/ML/Machine learning project -water pump\""
      ],
      "execution_count": 287,
      "outputs": []
    },
    {
      "cell_type": "code",
      "metadata": {
        "colab": {
          "base_uri": "https://localhost:8080/",
          "height": 422
        },
        "id": "tLtvolPrrV9C",
        "outputId": "1bbb73fc-934e-4d73-b250-5da664f26f03"
      },
      "source": [
        "train_data_values = pd.read_csv(drive_path_for_data + \"/training_set_values.csv\")\n",
        "train_data_labels = pd.read_csv(drive_path_for_data+ \"/training_set_labels.csv\")\n",
        "test_data= pd.read_csv(drive_path_for_data+ \"/test_set_values.csv\")\n",
        "test_data.head()"
      ],
      "execution_count": 288,
      "outputs": [
        {
          "output_type": "execute_result",
          "data": {
            "text/html": [
              "<div>\n",
              "<style scoped>\n",
              "    .dataframe tbody tr th:only-of-type {\n",
              "        vertical-align: middle;\n",
              "    }\n",
              "\n",
              "    .dataframe tbody tr th {\n",
              "        vertical-align: top;\n",
              "    }\n",
              "\n",
              "    .dataframe thead th {\n",
              "        text-align: right;\n",
              "    }\n",
              "</style>\n",
              "<table border=\"1\" class=\"dataframe\">\n",
              "  <thead>\n",
              "    <tr style=\"text-align: right;\">\n",
              "      <th></th>\n",
              "      <th>id</th>\n",
              "      <th>amount_tsh</th>\n",
              "      <th>date_recorded</th>\n",
              "      <th>funder</th>\n",
              "      <th>gps_height</th>\n",
              "      <th>installer</th>\n",
              "      <th>longitude</th>\n",
              "      <th>latitude</th>\n",
              "      <th>wpt_name</th>\n",
              "      <th>num_private</th>\n",
              "      <th>basin</th>\n",
              "      <th>subvillage</th>\n",
              "      <th>region</th>\n",
              "      <th>region_code</th>\n",
              "      <th>district_code</th>\n",
              "      <th>lga</th>\n",
              "      <th>ward</th>\n",
              "      <th>population</th>\n",
              "      <th>public_meeting</th>\n",
              "      <th>recorded_by</th>\n",
              "      <th>scheme_management</th>\n",
              "      <th>scheme_name</th>\n",
              "      <th>permit</th>\n",
              "      <th>construction_year</th>\n",
              "      <th>extraction_type</th>\n",
              "      <th>extraction_type_group</th>\n",
              "      <th>extraction_type_class</th>\n",
              "      <th>management</th>\n",
              "      <th>management_group</th>\n",
              "      <th>payment</th>\n",
              "      <th>payment_type</th>\n",
              "      <th>water_quality</th>\n",
              "      <th>quality_group</th>\n",
              "      <th>quantity</th>\n",
              "      <th>quantity_group</th>\n",
              "      <th>source</th>\n",
              "      <th>source_type</th>\n",
              "      <th>source_class</th>\n",
              "      <th>waterpoint_type</th>\n",
              "      <th>waterpoint_type_group</th>\n",
              "    </tr>\n",
              "  </thead>\n",
              "  <tbody>\n",
              "    <tr>\n",
              "      <th>0</th>\n",
              "      <td>50785</td>\n",
              "      <td>0.0</td>\n",
              "      <td>2013-02-04</td>\n",
              "      <td>Dmdd</td>\n",
              "      <td>1996</td>\n",
              "      <td>DMDD</td>\n",
              "      <td>35.290799</td>\n",
              "      <td>-4.059696</td>\n",
              "      <td>Dinamu Secondary School</td>\n",
              "      <td>0</td>\n",
              "      <td>Internal</td>\n",
              "      <td>Magoma</td>\n",
              "      <td>Manyara</td>\n",
              "      <td>21</td>\n",
              "      <td>3</td>\n",
              "      <td>Mbulu</td>\n",
              "      <td>Bashay</td>\n",
              "      <td>321</td>\n",
              "      <td>True</td>\n",
              "      <td>GeoData Consultants Ltd</td>\n",
              "      <td>Parastatal</td>\n",
              "      <td>NaN</td>\n",
              "      <td>True</td>\n",
              "      <td>2012</td>\n",
              "      <td>other</td>\n",
              "      <td>other</td>\n",
              "      <td>other</td>\n",
              "      <td>parastatal</td>\n",
              "      <td>parastatal</td>\n",
              "      <td>never pay</td>\n",
              "      <td>never pay</td>\n",
              "      <td>soft</td>\n",
              "      <td>good</td>\n",
              "      <td>seasonal</td>\n",
              "      <td>seasonal</td>\n",
              "      <td>rainwater harvesting</td>\n",
              "      <td>rainwater harvesting</td>\n",
              "      <td>surface</td>\n",
              "      <td>other</td>\n",
              "      <td>other</td>\n",
              "    </tr>\n",
              "    <tr>\n",
              "      <th>1</th>\n",
              "      <td>51630</td>\n",
              "      <td>0.0</td>\n",
              "      <td>2013-02-04</td>\n",
              "      <td>Government Of Tanzania</td>\n",
              "      <td>1569</td>\n",
              "      <td>DWE</td>\n",
              "      <td>36.656709</td>\n",
              "      <td>-3.309214</td>\n",
              "      <td>Kimnyak</td>\n",
              "      <td>0</td>\n",
              "      <td>Pangani</td>\n",
              "      <td>Kimnyak</td>\n",
              "      <td>Arusha</td>\n",
              "      <td>2</td>\n",
              "      <td>2</td>\n",
              "      <td>Arusha Rural</td>\n",
              "      <td>Kimnyaki</td>\n",
              "      <td>300</td>\n",
              "      <td>True</td>\n",
              "      <td>GeoData Consultants Ltd</td>\n",
              "      <td>VWC</td>\n",
              "      <td>TPRI pipe line</td>\n",
              "      <td>True</td>\n",
              "      <td>2000</td>\n",
              "      <td>gravity</td>\n",
              "      <td>gravity</td>\n",
              "      <td>gravity</td>\n",
              "      <td>vwc</td>\n",
              "      <td>user-group</td>\n",
              "      <td>never pay</td>\n",
              "      <td>never pay</td>\n",
              "      <td>soft</td>\n",
              "      <td>good</td>\n",
              "      <td>insufficient</td>\n",
              "      <td>insufficient</td>\n",
              "      <td>spring</td>\n",
              "      <td>spring</td>\n",
              "      <td>groundwater</td>\n",
              "      <td>communal standpipe</td>\n",
              "      <td>communal standpipe</td>\n",
              "    </tr>\n",
              "    <tr>\n",
              "      <th>2</th>\n",
              "      <td>17168</td>\n",
              "      <td>0.0</td>\n",
              "      <td>2013-02-01</td>\n",
              "      <td>NaN</td>\n",
              "      <td>1567</td>\n",
              "      <td>NaN</td>\n",
              "      <td>34.767863</td>\n",
              "      <td>-5.004344</td>\n",
              "      <td>Puma Secondary</td>\n",
              "      <td>0</td>\n",
              "      <td>Internal</td>\n",
              "      <td>Msatu</td>\n",
              "      <td>Singida</td>\n",
              "      <td>13</td>\n",
              "      <td>2</td>\n",
              "      <td>Singida Rural</td>\n",
              "      <td>Puma</td>\n",
              "      <td>500</td>\n",
              "      <td>True</td>\n",
              "      <td>GeoData Consultants Ltd</td>\n",
              "      <td>VWC</td>\n",
              "      <td>P</td>\n",
              "      <td>NaN</td>\n",
              "      <td>2010</td>\n",
              "      <td>other</td>\n",
              "      <td>other</td>\n",
              "      <td>other</td>\n",
              "      <td>vwc</td>\n",
              "      <td>user-group</td>\n",
              "      <td>never pay</td>\n",
              "      <td>never pay</td>\n",
              "      <td>soft</td>\n",
              "      <td>good</td>\n",
              "      <td>insufficient</td>\n",
              "      <td>insufficient</td>\n",
              "      <td>rainwater harvesting</td>\n",
              "      <td>rainwater harvesting</td>\n",
              "      <td>surface</td>\n",
              "      <td>other</td>\n",
              "      <td>other</td>\n",
              "    </tr>\n",
              "    <tr>\n",
              "      <th>3</th>\n",
              "      <td>45559</td>\n",
              "      <td>0.0</td>\n",
              "      <td>2013-01-22</td>\n",
              "      <td>Finn Water</td>\n",
              "      <td>267</td>\n",
              "      <td>FINN WATER</td>\n",
              "      <td>38.058046</td>\n",
              "      <td>-9.418672</td>\n",
              "      <td>Kwa Mzee Pange</td>\n",
              "      <td>0</td>\n",
              "      <td>Ruvuma / Southern Coast</td>\n",
              "      <td>Kipindimbi</td>\n",
              "      <td>Lindi</td>\n",
              "      <td>80</td>\n",
              "      <td>43</td>\n",
              "      <td>Liwale</td>\n",
              "      <td>Mkutano</td>\n",
              "      <td>250</td>\n",
              "      <td>NaN</td>\n",
              "      <td>GeoData Consultants Ltd</td>\n",
              "      <td>VWC</td>\n",
              "      <td>NaN</td>\n",
              "      <td>True</td>\n",
              "      <td>1987</td>\n",
              "      <td>other</td>\n",
              "      <td>other</td>\n",
              "      <td>other</td>\n",
              "      <td>vwc</td>\n",
              "      <td>user-group</td>\n",
              "      <td>unknown</td>\n",
              "      <td>unknown</td>\n",
              "      <td>soft</td>\n",
              "      <td>good</td>\n",
              "      <td>dry</td>\n",
              "      <td>dry</td>\n",
              "      <td>shallow well</td>\n",
              "      <td>shallow well</td>\n",
              "      <td>groundwater</td>\n",
              "      <td>other</td>\n",
              "      <td>other</td>\n",
              "    </tr>\n",
              "    <tr>\n",
              "      <th>4</th>\n",
              "      <td>49871</td>\n",
              "      <td>500.0</td>\n",
              "      <td>2013-03-27</td>\n",
              "      <td>Bruder</td>\n",
              "      <td>1260</td>\n",
              "      <td>BRUDER</td>\n",
              "      <td>35.006123</td>\n",
              "      <td>-10.950412</td>\n",
              "      <td>Kwa Mzee Turuka</td>\n",
              "      <td>0</td>\n",
              "      <td>Ruvuma / Southern Coast</td>\n",
              "      <td>Losonga</td>\n",
              "      <td>Ruvuma</td>\n",
              "      <td>10</td>\n",
              "      <td>3</td>\n",
              "      <td>Mbinga</td>\n",
              "      <td>Mbinga Urban</td>\n",
              "      <td>60</td>\n",
              "      <td>NaN</td>\n",
              "      <td>GeoData Consultants Ltd</td>\n",
              "      <td>Water Board</td>\n",
              "      <td>BRUDER</td>\n",
              "      <td>True</td>\n",
              "      <td>2000</td>\n",
              "      <td>gravity</td>\n",
              "      <td>gravity</td>\n",
              "      <td>gravity</td>\n",
              "      <td>water board</td>\n",
              "      <td>user-group</td>\n",
              "      <td>pay monthly</td>\n",
              "      <td>monthly</td>\n",
              "      <td>soft</td>\n",
              "      <td>good</td>\n",
              "      <td>enough</td>\n",
              "      <td>enough</td>\n",
              "      <td>spring</td>\n",
              "      <td>spring</td>\n",
              "      <td>groundwater</td>\n",
              "      <td>communal standpipe</td>\n",
              "      <td>communal standpipe</td>\n",
              "    </tr>\n",
              "  </tbody>\n",
              "</table>\n",
              "</div>"
            ],
            "text/plain": [
              "      id  amount_tsh  ...     waterpoint_type waterpoint_type_group\n",
              "0  50785         0.0  ...               other                 other\n",
              "1  51630         0.0  ...  communal standpipe    communal standpipe\n",
              "2  17168         0.0  ...               other                 other\n",
              "3  45559         0.0  ...               other                 other\n",
              "4  49871       500.0  ...  communal standpipe    communal standpipe\n",
              "\n",
              "[5 rows x 40 columns]"
            ]
          },
          "metadata": {},
          "execution_count": 288
        }
      ]
    },
    {
      "cell_type": "markdown",
      "metadata": {
        "id": "zObhIZARuZar"
      },
      "source": [
        "###Data Observations"
      ]
    },
    {
      "cell_type": "code",
      "metadata": {
        "colab": {
          "base_uri": "https://localhost:8080/",
          "height": 870
        },
        "id": "VMlGkKZxspSy",
        "outputId": "f9376f3b-c753-47ab-d89e-b2746d34b53a"
      },
      "source": [
        "all_data = pd.concat([train_data_values,test_data])\n",
        "display(all_data.info())"
      ],
      "execution_count": 289,
      "outputs": [
        {
          "output_type": "stream",
          "name": "stdout",
          "text": [
            "<class 'pandas.core.frame.DataFrame'>\n",
            "Int64Index: 74250 entries, 0 to 14849\n",
            "Data columns (total 40 columns):\n",
            " #   Column                 Non-Null Count  Dtype  \n",
            "---  ------                 --------------  -----  \n",
            " 0   id                     74250 non-null  int64  \n",
            " 1   amount_tsh             74250 non-null  float64\n",
            " 2   date_recorded          74250 non-null  object \n",
            " 3   funder                 69746 non-null  object \n",
            " 4   gps_height             74250 non-null  int64  \n",
            " 5   installer              69718 non-null  object \n",
            " 6   longitude              74250 non-null  float64\n",
            " 7   latitude               74250 non-null  float64\n",
            " 8   wpt_name               74250 non-null  object \n",
            " 9   num_private            74250 non-null  int64  \n",
            " 10  basin                  74250 non-null  object \n",
            " 11  subvillage             73780 non-null  object \n",
            " 12  region                 74250 non-null  object \n",
            " 13  region_code            74250 non-null  int64  \n",
            " 14  district_code          74250 non-null  int64  \n",
            " 15  lga                    74250 non-null  object \n",
            " 16  ward                   74250 non-null  object \n",
            " 17  population             74250 non-null  int64  \n",
            " 18  public_meeting         70095 non-null  object \n",
            " 19  recorded_by            74250 non-null  object \n",
            " 20  scheme_management      69404 non-null  object \n",
            " 21  scheme_name            38992 non-null  object \n",
            " 22  permit                 70457 non-null  object \n",
            " 23  construction_year      74250 non-null  int64  \n",
            " 24  extraction_type        74250 non-null  object \n",
            " 25  extraction_type_group  74250 non-null  object \n",
            " 26  extraction_type_class  74250 non-null  object \n",
            " 27  management             74250 non-null  object \n",
            " 28  management_group       74250 non-null  object \n",
            " 29  payment                74250 non-null  object \n",
            " 30  payment_type           74250 non-null  object \n",
            " 31  water_quality          74250 non-null  object \n",
            " 32  quality_group          74250 non-null  object \n",
            " 33  quantity               74250 non-null  object \n",
            " 34  quantity_group         74250 non-null  object \n",
            " 35  source                 74250 non-null  object \n",
            " 36  source_type            74250 non-null  object \n",
            " 37  source_class           74250 non-null  object \n",
            " 38  waterpoint_type        74250 non-null  object \n",
            " 39  waterpoint_type_group  74250 non-null  object \n",
            "dtypes: float64(3), int64(7), object(30)\n",
            "memory usage: 23.2+ MB\n"
          ]
        },
        {
          "output_type": "display_data",
          "data": {
            "text/plain": [
              "None"
            ]
          },
          "metadata": {}
        }
      ]
    },
    {
      "cell_type": "code",
      "metadata": {
        "colab": {
          "base_uri": "https://localhost:8080/"
        },
        "id": "Gxt0P9dpt19M",
        "outputId": "a18cb75f-3e52-465d-889f-2ae8fa6ecca7"
      },
      "source": [
        "# [print(n) for n in df.scheme_name.unique()]\n",
        "# print(\"id \\n\",df.id.unique())\n",
        "# print(\"amount_tsh\\n\",len(df.amount_tsh.unique()))\n",
        "# print(\"date_recorded\\n\",df.date_recorded.unique())\n",
        "# print(\"funder\\n\",len(df.funder.unique()))\n",
        "# print(\"gps_height\\n\",(df.gps_height.unique()))\n",
        "# print(\"installer\\n\",(df.installer.unique()))\n",
        "# print(\"longitude\\n\",(df.longitude.unique()))\n",
        "# print(\"latitude\\n\",(df.latitude.unique()))\n",
        "# print(\"wpt_name\\n\",(df.wpt_name.unique()))\n",
        "# print(\"num_private\\n\",(df.num_private.unique()))\n",
        "# print(\"basin\\n\",df.basin.unique())\n",
        "# print(\"subvillage\\n\",(df.subvillage.unique()))\n",
        "# print(\"region\\n\",(df.region.unique()))\n",
        "# print(\"region_code\\n\",len(df.region_code.unique()))\n",
        "# print(\"district_code\\n\",len(df.district_code.unique()))\n",
        "# print(\"lga\\n\",(df.lga.unique()))\n",
        "# print(\"ward\\n\",(df.ward.unique()))\n",
        "# print(\"population\\n\",(df.population.unique()))\n",
        "# print(\"public_meeting\\n\",(df.public_meeting.unique()))\n",
        "# print(\"recorded_by\\n\",df.recorded_by.unique())\n",
        "\n",
        "# print(\"scheme_management \\n\",len(df.scheme_management.unique()))\n",
        "# print(\"scheme_name\\n\",len(df.scheme_name.unique()))\n",
        "# print(\"permit\\n\",len(df.permit.unique()))\n",
        "# print(\"construction_year\\n\",df.construction_year.unique())\n",
        "# print(\"extraction_type\\n\",(df.extraction_type.unique()))\n",
        "# print(\"extraction_type_group\\n\",(df.extraction_type_group.unique()))\n",
        "# print(\"extraction_type_class\\n\",len(df.extraction_type_class.unique()))\n",
        "# print(\"management\\n\",(df.management.unique()))\n",
        "# print(\"management_group\\n\",(df.management_group.unique()))\n",
        "# print(\"payment\\n\",df.payment.unique())\n",
        "# print(\"payment_type\\n\",df.payment_type.unique())\n",
        "# print(\"water_quality\\n\",df.water_quality.unique())\n",
        "# print(\"quality_group\\n\",df.quality_group.unique())\n",
        "# print(\"quantity\\n\",df.quantity.unique())\n",
        "# print(\"quantity_group\\n\",df.quantity_group.unique())\n",
        "# print(\"source\\n\",df.source.unique())\n",
        "# print(\"source_type\\n\",df.source_type.unique())\n",
        "# print(\"source_class\\n\",df.source_class.unique())\n",
        "print(\"waterpoint_type\\n\",all_data.waterpoint_type.unique())\n",
        "print(\"waterpoint_type_group\\n\",all_data.waterpoint_type_group.unique())"
      ],
      "execution_count": 290,
      "outputs": [
        {
          "output_type": "stream",
          "name": "stdout",
          "text": [
            "waterpoint_type\n",
            " ['communal standpipe' 'communal standpipe multiple' 'hand pump' 'other'\n",
            " 'improved spring' 'cattle trough' 'dam']\n",
            "waterpoint_type_group\n",
            " ['communal standpipe' 'hand pump' 'other' 'improved spring'\n",
            " 'cattle trough' 'dam']\n"
          ]
        }
      ]
    },
    {
      "cell_type": "markdown",
      "metadata": {
        "id": "6wAqJM3uZiMo"
      },
      "source": [
        "### Imbalance check"
      ]
    },
    {
      "cell_type": "code",
      "metadata": {
        "colab": {
          "base_uri": "https://localhost:8080/"
        },
        "id": "rYEqw3x4Zu2-",
        "outputId": "92973c95-5180-48aa-b44f-aee11a5d56d5"
      },
      "source": [
        "train_data_labels[\"status_group\"].value_counts(normalize=True)"
      ],
      "execution_count": 291,
      "outputs": [
        {
          "output_type": "execute_result",
          "data": {
            "text/plain": [
              "functional                 0.543081\n",
              "non functional             0.384242\n",
              "functional needs repair    0.072677\n",
              "Name: status_group, dtype: float64"
            ]
          },
          "metadata": {},
          "execution_count": 291
        }
      ]
    },
    {
      "cell_type": "markdown",
      "metadata": {
        "id": "qqR8KSRcaulN"
      },
      "source": [
        "### Remove similar features"
      ]
    },
    {
      "cell_type": "markdown",
      "metadata": {
        "id": "vOn3RWRgdH39"
      },
      "source": [
        "####water_point_type and waterpoint_type_group"
      ]
    },
    {
      "cell_type": "code",
      "metadata": {
        "colab": {
          "base_uri": "https://localhost:8080/"
        },
        "id": "0EKEDvR-apkd",
        "outputId": "a5369c7d-3a54-48cb-a227-a04a1445fe2f"
      },
      "source": [
        "all_data.waterpoint_type.value_counts()"
      ],
      "execution_count": 292,
      "outputs": [
        {
          "output_type": "execute_result",
          "data": {
            "text/plain": [
              "communal standpipe             35628\n",
              "hand pump                      21884\n",
              "other                           8010\n",
              "communal standpipe multiple     7611\n",
              "improved spring                  959\n",
              "cattle trough                    150\n",
              "dam                                8\n",
              "Name: waterpoint_type, dtype: int64"
            ]
          },
          "metadata": {},
          "execution_count": 292
        }
      ]
    },
    {
      "cell_type": "code",
      "metadata": {
        "colab": {
          "base_uri": "https://localhost:8080/"
        },
        "id": "gWhn1Jpgbe9t",
        "outputId": "2d7496d0-167f-4655-de36-fd9075c184c2"
      },
      "source": [
        "all_data.waterpoint_type_group.value_counts()"
      ],
      "execution_count": 293,
      "outputs": [
        {
          "output_type": "execute_result",
          "data": {
            "text/plain": [
              "communal standpipe    43239\n",
              "hand pump             21884\n",
              "other                  8010\n",
              "improved spring         959\n",
              "cattle trough           150\n",
              "dam                       8\n",
              "Name: waterpoint_type_group, dtype: int64"
            ]
          },
          "metadata": {},
          "execution_count": 293
        }
      ]
    },
    {
      "cell_type": "code",
      "metadata": {
        "colab": {
          "base_uri": "https://localhost:8080/"
        },
        "id": "NCE2qbpkcMFs",
        "outputId": "2bf2c1f0-9dbf-46bc-e535-3b1e7bfd349a"
      },
      "source": [
        "print(all_data.groupby(['waterpoint_type','waterpoint_type_group']).count())"
      ],
      "execution_count": 294,
      "outputs": [
        {
          "output_type": "stream",
          "name": "stdout",
          "text": [
            "                                                      id  ...  source_class\n",
            "waterpoint_type             waterpoint_type_group         ...              \n",
            "cattle trough               cattle trough            150  ...           150\n",
            "communal standpipe          communal standpipe     35628  ...         35628\n",
            "communal standpipe multiple communal standpipe      7611  ...          7611\n",
            "dam                         dam                        8  ...             8\n",
            "hand pump                   hand pump              21884  ...         21884\n",
            "improved spring             improved spring          959  ...           959\n",
            "other                       other                   8010  ...          8010\n",
            "\n",
            "[7 rows x 38 columns]\n"
          ]
        }
      ]
    },
    {
      "cell_type": "markdown",
      "metadata": {
        "id": "DXDFcQmoblPD"
      },
      "source": [
        "Both waterpoint_type & waterpoint_type_group similar and that was proved by above output(details are same in the both features). So we can keep more detailed feature and drop other. waterpoint_type_group should be dropped. "
      ]
    },
    {
      "cell_type": "markdown",
      "metadata": {
        "id": "ZmKUyqIsdjM_"
      },
      "source": [
        "####Quantity vs Quantity_group"
      ]
    },
    {
      "cell_type": "code",
      "metadata": {
        "colab": {
          "base_uri": "https://localhost:8080/"
        },
        "id": "KNwbWy3RdxPd",
        "outputId": "ebfe3362-c200-46eb-fa4b-78d677c8714d"
      },
      "source": [
        "all_data.quantity.value_counts()"
      ],
      "execution_count": 295,
      "outputs": [
        {
          "output_type": "execute_result",
          "data": {
            "text/plain": [
              "enough          41522\n",
              "insufficient    18896\n",
              "dry              7782\n",
              "seasonal         5075\n",
              "unknown           975\n",
              "Name: quantity, dtype: int64"
            ]
          },
          "metadata": {},
          "execution_count": 295
        }
      ]
    },
    {
      "cell_type": "code",
      "metadata": {
        "colab": {
          "base_uri": "https://localhost:8080/"
        },
        "id": "FzHovx1Kd5QM",
        "outputId": "5ec4b338-dd94-49a0-9cef-9494ddb13218"
      },
      "source": [
        "all_data.quantity_group.value_counts()"
      ],
      "execution_count": 296,
      "outputs": [
        {
          "output_type": "execute_result",
          "data": {
            "text/plain": [
              "enough          41522\n",
              "insufficient    18896\n",
              "dry              7782\n",
              "seasonal         5075\n",
              "unknown           975\n",
              "Name: quantity_group, dtype: int64"
            ]
          },
          "metadata": {},
          "execution_count": 296
        }
      ]
    },
    {
      "cell_type": "code",
      "metadata": {
        "colab": {
          "base_uri": "https://localhost:8080/"
        },
        "id": "JRraM9gKd7B9",
        "outputId": "d9b78cac-6166-4759-f3af-3c53e2505c24"
      },
      "source": [
        "print(all_data.groupby(['quantity','quantity_group']).count())"
      ],
      "execution_count": 297,
      "outputs": [
        {
          "output_type": "stream",
          "name": "stdout",
          "text": [
            "                                id  ...  waterpoint_type_group\n",
            "quantity     quantity_group         ...                       \n",
            "dry          dry              7782  ...                   7782\n",
            "enough       enough          41522  ...                  41522\n",
            "insufficient insufficient    18896  ...                  18896\n",
            "seasonal     seasonal         5075  ...                   5075\n",
            "unknown      unknown           975  ...                    975\n",
            "\n",
            "[5 rows x 38 columns]\n"
          ]
        }
      ]
    },
    {
      "cell_type": "markdown",
      "metadata": {
        "id": "pe0ls7MZd_2E"
      },
      "source": [
        "Both quantity & quantity_group similar and that was proved by above output(details are same in the both features). We can drop one of them."
      ]
    },
    {
      "cell_type": "markdown",
      "metadata": {
        "id": "LvVWkN7SeIHj"
      },
      "source": [
        "####Water_quality & Quality_group"
      ]
    },
    {
      "cell_type": "code",
      "metadata": {
        "colab": {
          "base_uri": "https://localhost:8080/"
        },
        "id": "GLH5z0qQeUvb",
        "outputId": "eb5939c5-2fad-420b-ea8e-a2de48e1f162"
      },
      "source": [
        "all_data.water_quality.value_counts()"
      ],
      "execution_count": 298,
      "outputs": [
        {
          "output_type": "execute_result",
          "data": {
            "text/plain": [
              "soft                  63505\n",
              "salty                  6082\n",
              "unknown                2345\n",
              "milky                  1005\n",
              "coloured                623\n",
              "salty abandoned         423\n",
              "fluoride                244\n",
              "fluoride abandoned       23\n",
              "Name: water_quality, dtype: int64"
            ]
          },
          "metadata": {},
          "execution_count": 298
        }
      ]
    },
    {
      "cell_type": "code",
      "metadata": {
        "colab": {
          "base_uri": "https://localhost:8080/"
        },
        "id": "Nvy6fWCreXat",
        "outputId": "013c15dc-07ac-4019-f6d5-76247286e9f2"
      },
      "source": [
        "all_data.quality_group.value_counts()"
      ],
      "execution_count": 299,
      "outputs": [
        {
          "output_type": "execute_result",
          "data": {
            "text/plain": [
              "good        63505\n",
              "salty        6505\n",
              "unknown      2345\n",
              "milky        1005\n",
              "colored       623\n",
              "fluoride      267\n",
              "Name: quality_group, dtype: int64"
            ]
          },
          "metadata": {},
          "execution_count": 299
        }
      ]
    },
    {
      "cell_type": "code",
      "metadata": {
        "colab": {
          "base_uri": "https://localhost:8080/"
        },
        "id": "lNDqDmdqeasb",
        "outputId": "da43057c-6136-4d7b-edda-13d48498e2f2"
      },
      "source": [
        "print(all_data.groupby(['water_quality','quality_group']).count())"
      ],
      "execution_count": 300,
      "outputs": [
        {
          "output_type": "stream",
          "name": "stdout",
          "text": [
            "                                     id  ...  waterpoint_type_group\n",
            "water_quality      quality_group         ...                       \n",
            "coloured           colored          623  ...                    623\n",
            "fluoride           fluoride         244  ...                    244\n",
            "fluoride abandoned fluoride          23  ...                     23\n",
            "milky              milky           1005  ...                   1005\n",
            "salty              salty           6082  ...                   6082\n",
            "salty abandoned    salty            423  ...                    423\n",
            "soft               good           63505  ...                  63505\n",
            "unknown            unknown         2345  ...                   2345\n",
            "\n",
            "[8 rows x 38 columns]\n"
          ]
        }
      ]
    },
    {
      "cell_type": "markdown",
      "metadata": {
        "id": "uPFFfejcenL-"
      },
      "source": [
        "Both water_quality & quality_group similar and that was proved by above output(details are same in the both features). So we can keep more detailed feature and drop other. quality_group should be droped."
      ]
    },
    {
      "cell_type": "markdown",
      "metadata": {
        "id": "CQIcdY6qe0M7"
      },
      "source": [
        "####Payment & Payment_type"
      ]
    },
    {
      "cell_type": "code",
      "metadata": {
        "colab": {
          "base_uri": "https://localhost:8080/"
        },
        "id": "FpGGQe-6e346",
        "outputId": "f177e922-61e1-46b8-a527-d137669b1a99"
      },
      "source": [
        "all_data.payment.value_counts()"
      ],
      "execution_count": 301,
      "outputs": [
        {
          "output_type": "execute_result",
          "data": {
            "text/plain": [
              "never pay                31712\n",
              "pay per bucket           11266\n",
              "pay monthly              10397\n",
              "unknown                  10149\n",
              "pay when scheme fails     4842\n",
              "pay annually              4570\n",
              "other                     1314\n",
              "Name: payment, dtype: int64"
            ]
          },
          "metadata": {},
          "execution_count": 301
        }
      ]
    },
    {
      "cell_type": "code",
      "metadata": {
        "colab": {
          "base_uri": "https://localhost:8080/"
        },
        "id": "A7F50hgie7lh",
        "outputId": "a3cbf856-594b-4643-f9ce-b199a68682e2"
      },
      "source": [
        "all_data.payment_type.value_counts()"
      ],
      "execution_count": 302,
      "outputs": [
        {
          "output_type": "execute_result",
          "data": {
            "text/plain": [
              "never pay     31712\n",
              "per bucket    11266\n",
              "monthly       10397\n",
              "unknown       10149\n",
              "on failure     4842\n",
              "annually       4570\n",
              "other          1314\n",
              "Name: payment_type, dtype: int64"
            ]
          },
          "metadata": {},
          "execution_count": 302
        }
      ]
    },
    {
      "cell_type": "code",
      "metadata": {
        "colab": {
          "base_uri": "https://localhost:8080/"
        },
        "id": "PCBDQCQGe_FN",
        "outputId": "fbaa2b33-39e5-4c7c-a52e-3121bfc8c981"
      },
      "source": [
        "print(all_data.groupby(['payment','payment_type']).count())"
      ],
      "execution_count": 303,
      "outputs": [
        {
          "output_type": "stream",
          "name": "stdout",
          "text": [
            "                                       id  ...  waterpoint_type_group\n",
            "payment               payment_type         ...                       \n",
            "never pay             never pay     31712  ...                  31712\n",
            "other                 other          1314  ...                   1314\n",
            "pay annually          annually       4570  ...                   4570\n",
            "pay monthly           monthly       10397  ...                  10397\n",
            "pay per bucket        per bucket    11266  ...                  11266\n",
            "pay when scheme fails on failure     4842  ...                   4842\n",
            "unknown               unknown       10149  ...                  10149\n",
            "\n",
            "[7 rows x 38 columns]\n"
          ]
        }
      ]
    },
    {
      "cell_type": "markdown",
      "metadata": {
        "id": "mbK_ni9yfSQr"
      },
      "source": [
        "Both payment & payment_type similar and that was proved by above output(details are same in the both features). So we can drop one of them."
      ]
    },
    {
      "cell_type": "markdown",
      "metadata": {
        "id": "DbYL5RSlfq2c"
      },
      "source": [
        "####Scheme_management, Management & Management_group"
      ]
    },
    {
      "cell_type": "code",
      "metadata": {
        "colab": {
          "base_uri": "https://localhost:8080/"
        },
        "id": "TtyjsukYftNk",
        "outputId": "94e5c751-94c0-4d75-b817-afc679d41bc3"
      },
      "source": [
        "print(\"NaN value count:\", all_data.scheme_management.isna().sum())\n",
        "all_data.scheme_management.value_counts()"
      ],
      "execution_count": 304,
      "outputs": [
        {
          "output_type": "stream",
          "name": "stdout",
          "text": [
            "NaN value count: 4846\n"
          ]
        },
        {
          "output_type": "execute_result",
          "data": {
            "text/plain": [
              "VWC                 45917\n",
              "WUG                  6496\n",
              "Water authority      3975\n",
              "WUA                  3551\n",
              "Water Board          3462\n",
              "Parastatal           2124\n",
              "Company              1341\n",
              "Private operator     1326\n",
              "Other                 996\n",
              "SWC                   123\n",
              "Trust                  92\n",
              "None                    1\n",
              "Name: scheme_management, dtype: int64"
            ]
          },
          "metadata": {},
          "execution_count": 304
        }
      ]
    },
    {
      "cell_type": "code",
      "metadata": {
        "colab": {
          "base_uri": "https://localhost:8080/"
        },
        "id": "npK3PMDLfySn",
        "outputId": "bbf3db59-df88-46cd-afde-1472be2870b2"
      },
      "source": [
        "all_data.management.value_counts()"
      ],
      "execution_count": 305,
      "outputs": [
        {
          "output_type": "execute_result",
          "data": {
            "text/plain": [
              "vwc                 50624\n",
              "wug                  8108\n",
              "water board          3688\n",
              "wua                  3118\n",
              "private operator     2504\n",
              "parastatal           2229\n",
              "water authority      1123\n",
              "other                1083\n",
              "company               859\n",
              "unknown               683\n",
              "other - school        126\n",
              "trust                 105\n",
              "Name: management, dtype: int64"
            ]
          },
          "metadata": {},
          "execution_count": 305
        }
      ]
    },
    {
      "cell_type": "markdown",
      "metadata": {
        "id": "RTphbxfOgju0"
      },
      "source": [
        "Both scheme_management & management similar and that was proved by above output(details are same in the both features). So we can keep more detailed feature and drop other. scheme_management feature has more nan data. So we can drop it."
      ]
    },
    {
      "cell_type": "code",
      "metadata": {
        "colab": {
          "base_uri": "https://localhost:8080/"
        },
        "id": "lmVcORnEg6gy",
        "outputId": "7c9f3e48-7775-4893-cb4d-e89d7c950e7e"
      },
      "source": [
        "all_data.management_group.value_counts()"
      ],
      "execution_count": 306,
      "outputs": [
        {
          "output_type": "execute_result",
          "data": {
            "text/plain": [
              "user-group    65538\n",
              "commercial     4591\n",
              "parastatal     2229\n",
              "other          1209\n",
              "unknown         683\n",
              "Name: management_group, dtype: int64"
            ]
          },
          "metadata": {},
          "execution_count": 306
        }
      ]
    },
    {
      "cell_type": "code",
      "metadata": {
        "colab": {
          "base_uri": "https://localhost:8080/"
        },
        "id": "M4p7Q-mMf_oC",
        "outputId": "9cb51db6-d517-4728-9550-b5171a170c8e"
      },
      "source": [
        "print(all_data.groupby(['management','management_group']).count())"
      ],
      "execution_count": 307,
      "outputs": [
        {
          "output_type": "stream",
          "name": "stdout",
          "text": [
            "                                      id  ...  waterpoint_type_group\n",
            "management       management_group         ...                       \n",
            "company          commercial          859  ...                    859\n",
            "other            other              1083  ...                   1083\n",
            "other - school   other               126  ...                    126\n",
            "parastatal       parastatal         2229  ...                   2229\n",
            "private operator commercial         2504  ...                   2504\n",
            "trust            commercial          105  ...                    105\n",
            "unknown          unknown             683  ...                    683\n",
            "vwc              user-group        50624  ...                  50624\n",
            "water authority  commercial         1123  ...                   1123\n",
            "water board      user-group         3688  ...                   3688\n",
            "wua              user-group         3118  ...                   3118\n",
            "wug              user-group         8108  ...                   8108\n",
            "\n",
            "[12 rows x 38 columns]\n"
          ]
        }
      ]
    },
    {
      "cell_type": "markdown",
      "metadata": {
        "id": "-rJGuk4Dg3Yy"
      },
      "source": [
        "According to domain knowledge, we can consider managment and managment group has same details. So we can keep detailed feature and drop less detailed feature. So management_group drop"
      ]
    },
    {
      "cell_type": "markdown",
      "metadata": {
        "id": "Z6kxyrS_3c32"
      },
      "source": [
        "####Extraction_type, extraction_type_group & extraction_type_class"
      ]
    },
    {
      "cell_type": "code",
      "metadata": {
        "colab": {
          "base_uri": "https://localhost:8080/"
        },
        "id": "5pCR4kr93wN-",
        "outputId": "296704a0-fc15-4d49-92c5-7b777c8352f4"
      },
      "source": [
        "all_data.extraction_type.value_counts()"
      ],
      "execution_count": 308,
      "outputs": [
        {
          "output_type": "execute_result",
          "data": {
            "text/plain": [
              "gravity                      33263\n",
              "nira/tanira                  10205\n",
              "other                         8102\n",
              "submersible                   5982\n",
              "swn 80                        4588\n",
              "mono                          3628\n",
              "india mark ii                 3029\n",
              "afridev                       2208\n",
              "ksb                           1790\n",
              "other - rope pump              572\n",
              "other - swn 81                 284\n",
              "windmill                       152\n",
              "india mark iii                 135\n",
              "cemo                           108\n",
              "other - play pump              101\n",
              "walimi                          60\n",
              "climax                          41\n",
              "other - mkulima/shinyanga        2\n",
              "Name: extraction_type, dtype: int64"
            ]
          },
          "metadata": {},
          "execution_count": 308
        }
      ]
    },
    {
      "cell_type": "code",
      "metadata": {
        "colab": {
          "base_uri": "https://localhost:8080/"
        },
        "id": "Fazl4cmg30VH",
        "outputId": "ecb25904-5c03-4874-e0e6-cca0b2c7c3ba"
      },
      "source": [
        "all_data.extraction_type_group.value_counts()"
      ],
      "execution_count": 309,
      "outputs": [
        {
          "output_type": "execute_result",
          "data": {
            "text/plain": [
              "gravity            33263\n",
              "nira/tanira        10205\n",
              "other               8102\n",
              "submersible         7772\n",
              "swn 80              4588\n",
              "mono                3628\n",
              "india mark ii       3029\n",
              "afridev             2208\n",
              "rope pump            572\n",
              "other handpump       447\n",
              "wind-powered         152\n",
              "other motorpump      149\n",
              "india mark iii       135\n",
              "Name: extraction_type_group, dtype: int64"
            ]
          },
          "metadata": {},
          "execution_count": 309
        }
      ]
    },
    {
      "cell_type": "markdown",
      "metadata": {
        "id": "_ceE1xSi4vOP"
      },
      "source": [
        "Both extraction_type & extraction_type_group has same details but in extraction_type some classes have very low values compared to the total number of data. That classes has not enough data.So extraction_type should be dropped."
      ]
    },
    {
      "cell_type": "code",
      "metadata": {
        "colab": {
          "base_uri": "https://localhost:8080/"
        },
        "id": "A_WFsnNn4tjw",
        "outputId": "2283eb0c-1a12-487f-85aa-9481aa6194f1"
      },
      "source": [
        "all_data.extraction_type_class.value_counts()"
      ],
      "execution_count": 310,
      "outputs": [
        {
          "output_type": "execute_result",
          "data": {
            "text/plain": [
              "gravity         33263\n",
              "handpump        20612\n",
              "other            8102\n",
              "submersible      7772\n",
              "motorpump        3777\n",
              "rope pump         572\n",
              "wind-powered      152\n",
              "Name: extraction_type_class, dtype: int64"
            ]
          },
          "metadata": {},
          "execution_count": 310
        }
      ]
    },
    {
      "cell_type": "code",
      "metadata": {
        "colab": {
          "base_uri": "https://localhost:8080/"
        },
        "id": "wpzIWEV46mdV",
        "outputId": "f00fee9d-f19f-4226-9379-1b62fc50ef8c"
      },
      "source": [
        "print(all_data.groupby(['extraction_type_group', 'extraction_type_class']).count())"
      ],
      "execution_count": 311,
      "outputs": [
        {
          "output_type": "stream",
          "name": "stdout",
          "text": [
            "                                                id  ...  waterpoint_type_group\n",
            "extraction_type_group extraction_type_class         ...                       \n",
            "afridev               handpump                2208  ...                   2208\n",
            "gravity               gravity                33263  ...                  33263\n",
            "india mark ii         handpump                3029  ...                   3029\n",
            "india mark iii        handpump                 135  ...                    135\n",
            "mono                  motorpump               3628  ...                   3628\n",
            "nira/tanira           handpump               10205  ...                  10205\n",
            "other                 other                   8102  ...                   8102\n",
            "other handpump        handpump                 447  ...                    447\n",
            "other motorpump       motorpump                149  ...                    149\n",
            "rope pump             rope pump                572  ...                    572\n",
            "submersible           submersible             7772  ...                   7772\n",
            "swn 80                handpump                4588  ...                   4588\n",
            "wind-powered          wind-powered             152  ...                    152\n",
            "\n",
            "[13 rows x 38 columns]\n"
          ]
        }
      ]
    },
    {
      "cell_type": "markdown",
      "metadata": {
        "id": "AQza4d8X6ynO"
      },
      "source": [
        "Both extraction_type_group & extraction_type_class similar and that was proved by above output(details are same in the both features). So we can keep more detailed feature and drop other. extraction_type_class should drop."
      ]
    },
    {
      "cell_type": "markdown",
      "metadata": {
        "id": "ltBKxkse9VV1"
      },
      "source": [
        "####Source, Source_type & Source_class columns"
      ]
    },
    {
      "cell_type": "code",
      "metadata": {
        "colab": {
          "base_uri": "https://localhost:8080/"
        },
        "id": "9cSoB8pM9apz",
        "outputId": "f95b8dcd-667c-4e03-d165-0837984b4e75"
      },
      "source": [
        "all_data.source.value_counts()"
      ],
      "execution_count": 312,
      "outputs": [
        {
          "output_type": "execute_result",
          "data": {
            "text/plain": [
              "spring                  21216\n",
              "shallow well            21140\n",
              "machine dbh             13822\n",
              "river                   11964\n",
              "rainwater harvesting     2863\n",
              "hand dtw                 1108\n",
              "lake                      950\n",
              "dam                       840\n",
              "other                     261\n",
              "unknown                    86\n",
              "Name: source, dtype: int64"
            ]
          },
          "metadata": {},
          "execution_count": 312
        }
      ]
    },
    {
      "cell_type": "code",
      "metadata": {
        "colab": {
          "base_uri": "https://localhost:8080/"
        },
        "id": "8x8bsqFN9dEu",
        "outputId": "16f925f2-be10-4cf9-dedd-6f1ee9cfe215"
      },
      "source": [
        "all_data.source_type.value_counts()"
      ],
      "execution_count": 313,
      "outputs": [
        {
          "output_type": "execute_result",
          "data": {
            "text/plain": [
              "spring                  21216\n",
              "shallow well            21140\n",
              "borehole                14930\n",
              "river/lake              12914\n",
              "rainwater harvesting     2863\n",
              "dam                       840\n",
              "other                     347\n",
              "Name: source_type, dtype: int64"
            ]
          },
          "metadata": {},
          "execution_count": 313
        }
      ]
    },
    {
      "cell_type": "code",
      "metadata": {
        "colab": {
          "base_uri": "https://localhost:8080/"
        },
        "id": "-OYZ2H0E9g2a",
        "outputId": "f7dae5b8-b5b6-43aa-849e-9fad88e7c290"
      },
      "source": [
        "all_data.source_class.value_counts()"
      ],
      "execution_count": 314,
      "outputs": [
        {
          "output_type": "execute_result",
          "data": {
            "text/plain": [
              "groundwater    57286\n",
              "surface        16617\n",
              "unknown          347\n",
              "Name: source_class, dtype: int64"
            ]
          },
          "metadata": {},
          "execution_count": 314
        }
      ]
    },
    {
      "cell_type": "code",
      "metadata": {
        "colab": {
          "base_uri": "https://localhost:8080/"
        },
        "id": "c6weP-cU9kDi",
        "outputId": "1f4e6609-1bfb-4060-ea49-081be7f4733d"
      },
      "source": [
        "print(all_data.groupby(['source','source_type', 'source_class']).count())"
      ],
      "execution_count": 315,
      "outputs": [
        {
          "output_type": "stream",
          "name": "stdout",
          "text": [
            "                                                           id  ...  waterpoint_type_group\n",
            "source               source_type          source_class         ...                       \n",
            "dam                  dam                  surface         840  ...                    840\n",
            "hand dtw             borehole             groundwater    1108  ...                   1108\n",
            "lake                 river/lake           surface         950  ...                    950\n",
            "machine dbh          borehole             groundwater   13822  ...                  13822\n",
            "other                other                unknown         261  ...                    261\n",
            "rainwater harvesting rainwater harvesting surface        2863  ...                   2863\n",
            "river                river/lake           surface       11964  ...                  11964\n",
            "shallow well         shallow well         groundwater   21140  ...                  21140\n",
            "spring               spring               groundwater   21216  ...                  21216\n",
            "unknown              other                unknown          86  ...                     86\n",
            "\n",
            "[10 rows x 37 columns]\n"
          ]
        }
      ]
    },
    {
      "cell_type": "markdown",
      "metadata": {
        "id": "8OEKHRXH9zcp"
      },
      "source": [
        "Both source, source_type & source_class similar and that was proved by above output(details are same in the all mentioned features). So we can keep more detailed feature and drop other. source_type and source_class should drop."
      ]
    },
    {
      "cell_type": "markdown",
      "metadata": {
        "id": "DxLof4jn17xK"
      },
      "source": [
        "##Preprocessing"
      ]
    },
    {
      "cell_type": "markdown",
      "metadata": {
        "id": "ODS84-G320MD"
      },
      "source": [
        "#### Clean data"
      ]
    },
    {
      "cell_type": "code",
      "metadata": {
        "id": "QYh8gWpj2F35"
      },
      "source": [
        "def clean(df):\n",
        "    # drop above found features\n",
        "    df.drop(columns=['source_class','source_type','management_group','scheme_management','quantity_group','quality_group','payment_type','extraction_type_class','extraction_type', 'waterpoint_type_group'],inplace=True )\n",
        "    typo_correction(df)\n",
        "    return df"
      ],
      "execution_count": 316,
      "outputs": []
    },
    {
      "cell_type": "code",
      "metadata": {
        "id": "Ilsf08D2e1Ex"
      },
      "source": [
        "# for item in all_data.installer.unique():\n",
        "#   print(item)\n",
        "def typo_correction(df):\n",
        "  df['installer'].replace(to_replace = ('villigers', 'villager', 'Villagers', 'Villa', 'Village', 'Villi', \n",
        "                                        'Village Council','Village Counil', 'Villages', 'Vill', 'Village community', \n",
        "                                        'Villaers', 'Village Community', 'Villag','Villege Council', 'Village council',\n",
        "                                        'Village  Council','Villagerd', 'Villager', 'Village Technician',\n",
        "                                        'Village Office','Village community members'),\n",
        "                                          value ='villagers' , inplace=True)\n",
        "  df['installer'].replace(to_replace =('Commu','Communit','commu','COMMU', 'COMMUNITY') ,\n",
        "                                          value ='Community' , inplace=True)\n",
        "\n",
        "  df['installer'].replace(to_replace = ('GOVERNMENT', 'GOVER', 'GOVERNME', 'GOVERM','GOVERN','Gover','Gove',\n",
        "                                        'Governme','Governmen' ) ,value ='Government' , inplace=True)\n",
        "\n",
        "  df['installer'].replace(to_replace = 'Hesawa' ,value ='HESAWA' , inplace=True)\n",
        "  df['installer'].replace(to_replace = ('District Water Department', 'District water depar','Distric Water Department'),\n",
        "                        value ='District water department' , inplace=True)\n",
        "\n",
        "  df['installer'].replace(to_replace = ('FinW','Fini water','FINI WATER'), value ='Fini Water' , inplace=True)\n",
        "  df['installer'].replace(to_replace = 'JAICA', value ='Jaica' , inplace=True)\n",
        "\n",
        "  df['installer'].replace(to_replace = ('COUN', 'District COUNCIL', 'DISTRICT COUNCIL','District Counci', \n",
        "                                        'District Council','Council','Counc','District  Council','Distri'),\n",
        "                                      value ='District council' , inplace=True)\n",
        "\n",
        "  df['installer'].replace(to_replace = ('RC CHURCH', 'RC Churc', 'RC','RC Ch','RC C', 'RC CH','RC church', \n",
        "                                        'RC CATHORIC',) , value ='RC Church' , inplace=True)\n",
        "\n",
        "  df['installer'].replace(to_replace = ('Central Government','Tanzania Government',\n",
        "                                        'central government','Cental Government', 'Cebtral Government', \n",
        "                                        'Tanzanian Government','Tanzania government', 'Centra Government' ,\n",
        "                                        'CENTRAL GOVERNMENT', 'TANZANIAN GOVERNMENT','Central govt', 'Centr', \n",
        "                                        'Centra govt') , value ='Central government' , inplace=True)\n",
        "\n",
        "  df['installer'].replace(to_replace = ('World vision', 'World Division','World Vision'),\n",
        "                                          value ='world vision' , inplace=True)\n",
        "\n",
        "  df['installer'].replace(to_replace = ('Unisef','UNICEF'),value ='Unicef' , inplace=True)\n",
        "  df['installer'].replace(to_replace = 'DANID', value ='DANIDA' , inplace=True)\n",
        "\n",
        "\n",
        "  df['installer'].replace(to_replace = ('Colonial Government') , value ='Colonial government' , inplace=True)\n",
        "  df['installer'].replace(to_replace = ('Government of Misri') , value ='Misri Government' , inplace=True)\n",
        "  df['installer'].replace(to_replace = ('Italy government') , value ='Italian government' , inplace=True)\n",
        "  df['installer'].replace(to_replace = ('British colonial government') , value ='British government' , inplace=True)\n",
        "  df['installer'].replace(to_replace = ('Concern /government') , value ='Concern/Government' , inplace=True)\n",
        "  df['installer'].replace(to_replace = ('Village Government') , value ='Village government' , inplace=True)\n",
        "  df['installer'].replace(to_replace = ('Government and Community') , value ='Government /Community' , inplace=True)\n",
        "  df['installer'].replace(to_replace = ('Cetral government /RC') , value ='RC church/Central Gover' , inplace=True)\n",
        "  df['installer'].replace(to_replace = ('Government /TCRS','Government/TCRS') , value ='TCRS /Government' , inplace=True)\n",
        "  df['installer'].replace(to_replace = ('ADRA /Government') , value ='ADRA/Government' , inplace=True)\n",
        "  return df\n",
        "  \n"
      ],
      "execution_count": 317,
      "outputs": []
    },
    {
      "cell_type": "code",
      "metadata": {
        "id": "OxDmo1SqncLu"
      },
      "source": [
        "# clean(all_data)\n",
        "# len(all_data.installer.unique())\n",
        "# all_data.installer.value_counts().head(20)"
      ],
      "execution_count": 318,
      "outputs": []
    },
    {
      "cell_type": "markdown",
      "metadata": {
        "id": "26kxM8Y823HR"
      },
      "source": [
        "#### Encode"
      ]
    },
    {
      "cell_type": "markdown",
      "metadata": {
        "id": "QdaDe23WmNak"
      },
      "source": [
        "1. \"amount_tsh - numarical - no nan -102 unique data\"\n",
        "2. \"funder categorical\"\n",
        "3. \"gps_height 2456 unique values - numerical data\"\n",
        "4. \"installer  2411 string\"\n",
        "5. \"longitude 71870 unique values numerical\"\n",
        "6. \"latitude  71869 unique values numerical\"\n",
        "7. \"basin - smalll number of nunique values strings\"\n",
        "8. \"region - smalll number of nunique values strings\"\n",
        "9. \"district_code-  smalll number of nunique values- numerical data\"\n",
        "10. \"lga - 125 number of unique values- strings\"\n",
        "11. \"ward  2098 unique values - string\"\n",
        "12. \"population 1128 unique values - numerical\"\n",
        "13. \"public_meeting - true false nan\"\n",
        "14. \"permit - true false nan\"\n",
        "15. \"construction_year - small number of unique values - numerical\"\n",
        "16. \"extraction_type_group - string smalll number of unique values\"\n",
        "17. \"management string smalll number of unique values\"\n",
        "18. \"payment - string smalll number of unique values\"\n",
        "19. \"water_quality- string smalll number of unique values\"             \n",
        "20. \"quantity         string smalll number of unique values\"      \n",
        "21. \"source            string smalll number of unique values\"          \n",
        "22. \"waterpoint_type     string smalll number of unique values\"     \n",
        "\n",
        "**Removed features in preprocessing step**\n",
        "\n",
        "1. \"source_type       string smalll number of unique values\"     \n",
        "2. \"source_class      string smalll number of unique values\"    \n",
        "3. \"management_group string smalll number of unique values\" \n",
        "4. \"scheme_management  - strings small number of uniques\" \n",
        "5. \"quantity_group    string smalll number of unique values\"  \n",
        "6. \"quality_group   string smalll number of unique values\"\n",
        "7. \"payment_type - string smalll number of unique values\"\n",
        "8. \"extraction_type_class - string smalll number of unique values\"\n",
        "9. \"extraction_type - string smalll number of unique values\"\n",
        "10. \"waterpoint_type_group  string smalll number of unique values\"\n",
        "-------\n",
        "11. \"recorded_by - only have obe value for all\"\n",
        "12. \"wpt_name - String 45684 unique values\"\n",
        "13. \"scheme_name  strings small number of uniques\"\n",
        "14. \"region_code -  smalll number of nunique values- numerical data\"\n",
        "15. \"num_private  numerical data- have small number of unique values\"\n",
        "16. \"date_recorded - dates 369 uniques\"\n",
        "17. \"subvillage - 21426 unique values strings\"\n",
        "\n",
        "\n",
        "The numeric features : id, amount_tsh, gps_height, longitude, latitude, num_private, population\n",
        "\n",
        "* Categorical :\n",
        "     date_recorded, funder, installer, wpt_name, basin, subvillage, region, region_code, district_code, lga, \n",
        "     ward, public_meeting, recorded_by, scheme_management, scheme_name, permit, construction_year, extraction_type,\n",
        "     extraction_type_group, extraction_type_class, management, management_group, payment, payment_type, water_quality,\n",
        "     quality_group, quantity, quantity_group, source, source_type, source_class, waterpoint_type, waterpoint_type_group\n",
        "\n",
        "* The numeric features : id, amount_tsh, gps_height, longitude, latitude, num_private, population - These numeric features are already encoded correctly\n",
        "\n",
        "* Features with null: funder, installer, subvillage, public_meeting, scheme_management, scheme_name, permit"
      ]
    },
    {
      "cell_type": "code",
      "metadata": {
        "id": "sFbV2b35c-6I"
      },
      "source": [
        "#list down unordered categorical features\n",
        "features_nom = [\"date_recorded\",\"funder\", \"installer\",\"wpt_name\",\"basin\",\"subvillage\",\"region\",\"region_code\",\"district_code\", \"lga\", \"ward\", \"public_meeting\", \n",
        "                \"recorded_by\",\"scheme_name\",\"permit\", \"construction_year\", \"extraction_type_group\", \"management\",\"payment\", \"water_quality\", \n",
        "                \"quantity\", \"source\",\"waterpoint_type\"]\n",
        "\n",
        "numerical_features = [\"amount_tsh\",\"gps_height\",\"longitude\", \"latitude\",\"population\", \"num_private\"]\n",
        "ordered_levels = {             # list down un ordered categorical coloumn and assign categories\n",
        "}\n",
        "\n",
        "# Add a None level for missing values\n",
        "ordered_levels = {key: [\"None\"] + value for key, value in ordered_levels.items()}\n",
        "\n",
        "\n",
        "def encode(df):   \n",
        "    # Nominal categories\n",
        "    for name in features_nom:\n",
        "        df[name] = df[name].astype(\"category\")\n",
        "        # Add a None category for missing values\n",
        "        if \"None\" not in df[name].cat.categories and df[name].isnull().sum() !=0:\n",
        "            df[name].cat.add_categories(\"None\", inplace=True)\n",
        "    # Ordinal categories\n",
        "    for name, levels in ordered_levels.items():\n",
        "        df[name] = df[name].astype(CategoricalDtype(levels,\n",
        "                                                    ordered=True))\n",
        "    return df"
      ],
      "execution_count": 319,
      "outputs": []
    },
    {
      "cell_type": "code",
      "metadata": {
        "id": "T9ua4vBWqLH1"
      },
      "source": [
        "# encode(df)\n",
        "# display(df.info())"
      ],
      "execution_count": 320,
      "outputs": []
    },
    {
      "cell_type": "markdown",
      "metadata": {
        "id": "0OA7hsYqQmwW"
      },
      "source": [
        "#### Impute"
      ]
    },
    {
      "cell_type": "code",
      "metadata": {
        "id": "JWWk_RQUqWTF"
      },
      "source": [
        "def impute(df):\n",
        "    # for name in df.select_dtypes(\"number\"):\n",
        "    #     df[name] = df[name].fillna(0)\n",
        "    for name in df.select_dtypes(\"category\"):\n",
        "        if \"None\" in df[name].cat.categories:\n",
        "            df[name] = df[name].fillna(\"None\")\n",
        "    # for name in df.select_dtypes(\"object\"):\n",
        "    #     df[name] = df[name].fillna(\"None\")\n",
        "    return df"
      ],
      "execution_count": 321,
      "outputs": []
    },
    {
      "cell_type": "markdown",
      "metadata": {
        "id": "-9mCTD0BQqV-"
      },
      "source": [
        "#### Load Data"
      ]
    },
    {
      "cell_type": "code",
      "metadata": {
        "id": "o0IxAWiEyRRW"
      },
      "source": [
        "def load_data():\n",
        "    # Read data\n",
        "    drive_path_for_data = \"/content/drive/MyDrive/Semester 7/ML/Machine learning project -water pump\"\n",
        "    train_data_values = pd.read_csv(drive_path_for_data + \"/training_set_values.csv\")\n",
        "    train_data_labels = pd.read_csv(drive_path_for_data+ \"/training_set_labels.csv\")\n",
        "    test_data= pd.read_csv(drive_path_for_data+ \"/test_set_values.csv\")\n",
        "\n",
        "    # df_train = pd.read_csv(\"/kaggle/input/titanic/train.csv\")\n",
        "    # df_test = pd.read_csv(\"/kaggle/input/titanic/test.csv\")\n",
        "    train_data_values=train_data_values.set_index(\"id\")\n",
        "    test_data=test_data.set_index(\"id\")\n",
        "    train_data_labels=train_data_labels.set_index(\"id\")\n",
        "\n",
        "    train_data = train_data_values.merge(train_data_labels, left_index=True, right_index=True)\n",
        "\n",
        "    # print(train_data.info())\n",
        "    # Merge the splits so we can process them together\n",
        "    df = pd.concat([train_data, test_data])\n",
        "    # Preprocessing\n",
        "    df = clean(df)\n",
        "    df = encode(df)\n",
        "    df = impute(df)\n",
        "    # Reform splits\n",
        "    df_train = df.loc[train_data.index, :]\n",
        "    df_test = df.loc[test_data.index, :]\n",
        "    return df_train, df_test"
      ],
      "execution_count": 322,
      "outputs": []
    },
    {
      "cell_type": "code",
      "metadata": {
        "id": "b7TJn6ol4PJj"
      },
      "source": [
        "train_data,test_data = load_data()"
      ],
      "execution_count": 323,
      "outputs": []
    },
    {
      "cell_type": "markdown",
      "metadata": {
        "id": "4Pz6v8-3JSAh"
      },
      "source": [
        "#### Unwanted feature detection"
      ]
    },
    {
      "cell_type": "markdown",
      "metadata": {
        "id": "-lUOckjAZrJj"
      },
      "source": [
        "##### `wpt_name` check"
      ]
    },
    {
      "cell_type": "code",
      "metadata": {
        "colab": {
          "base_uri": "https://localhost:8080/"
        },
        "id": "7l-lcl2qJcBo",
        "outputId": "735b9876-cee7-4d56-bebe-1593e02c14e5"
      },
      "source": [
        "train_data.wpt_name.value_counts()"
      ],
      "execution_count": 324,
      "outputs": [
        {
          "output_type": "execute_result",
          "data": {
            "text/plain": [
              "none                 3563\n",
              "Shuleni              1748\n",
              "Zahanati              830\n",
              "Msikitini             535\n",
              "Kanisani              323\n",
              "                     ... \n",
              "Kwa Mkanula             0\n",
              "Kwa Mkange              0\n",
              "Kwa Mkambati            0\n",
              "Kwa Mkama Mbogola       0\n",
              "21                      0\n",
              "Name: wpt_name, Length: 45684, dtype: int64"
            ]
          },
          "metadata": {},
          "execution_count": 324
        }
      ]
    },
    {
      "cell_type": "markdown",
      "metadata": {
        "id": "fP2iMMUHZ3DL"
      },
      "source": [
        "##### `scheme_name` check"
      ]
    },
    {
      "cell_type": "code",
      "metadata": {
        "colab": {
          "base_uri": "https://localhost:8080/"
        },
        "id": "ytQis82JKf2X",
        "outputId": "a37d3629-19e1-49f6-c84f-a6e769b086d7"
      },
      "source": [
        "train_data.scheme_name.value_counts()"
      ],
      "execution_count": 325,
      "outputs": [
        {
          "output_type": "execute_result",
          "data": {
            "text/plain": [
              "None                                         28810\n",
              "K                                              682\n",
              "Borehole                                       546\n",
              "Chalinze wate                                  405\n",
              "M                                              400\n",
              "                                             ...  \n",
              "makanj                                           0\n",
              "Badimka                                          0\n",
              "Gwarama point source sources water supply        0\n",
              "Gwarama point sources water supply               0\n",
              "Segese Pipe scheme                               0\n",
              "Name: scheme_name, Length: 2868, dtype: int64"
            ]
          },
          "metadata": {},
          "execution_count": 325
        }
      ]
    },
    {
      "cell_type": "markdown",
      "metadata": {
        "id": "VHSjQxgCRiAK"
      },
      "source": [
        "We can drop this two columns because `wpt_name` has lots of unique valus so it does not has useful details for classification. `scheme_name` has lots of none values."
      ]
    },
    {
      "cell_type": "markdown",
      "metadata": {
        "id": "OkzhEx4mZ-sk"
      },
      "source": [
        "##### `region` and `region_code` comparison"
      ]
    },
    {
      "cell_type": "markdown",
      "metadata": {
        "id": "yir03dajTbqi"
      },
      "source": [
        "When we consider `region` and `region_code` we can remove more detailed feature because of the these both features has same informations. So we keep `region` and drop `region_code`."
      ]
    },
    {
      "cell_type": "markdown",
      "metadata": {
        "id": "QmsDbFT1aFK7"
      },
      "source": [
        "##### `amount_tsh` check"
      ]
    },
    {
      "cell_type": "code",
      "metadata": {
        "colab": {
          "base_uri": "https://localhost:8080/"
        },
        "id": "cXN3z4z5VbNf",
        "outputId": "6826f8b3-8a6f-4aa1-d077-71c09daf3b2e"
      },
      "source": [
        "train_data.amount_tsh.value_counts()"
      ],
      "execution_count": 326,
      "outputs": [
        {
          "output_type": "execute_result",
          "data": {
            "text/plain": [
              "0.0         41639\n",
              "500.0        3102\n",
              "50.0         2472\n",
              "1000.0       1488\n",
              "20.0         1463\n",
              "            ...  \n",
              "8500.0          1\n",
              "6300.0          1\n",
              "220.0           1\n",
              "138000.0        1\n",
              "12.0            1\n",
              "Name: amount_tsh, Length: 98, dtype: int64"
            ]
          },
          "metadata": {},
          "execution_count": 326
        }
      ]
    },
    {
      "cell_type": "code",
      "metadata": {
        "colab": {
          "base_uri": "https://localhost:8080/"
        },
        "id": "HE-9cLQIW8Jf",
        "outputId": "6bbb0b5f-f124-4a98-b84e-bdec4afece47"
      },
      "source": [
        "train_data.loc[train_data['amount_tsh']==0.0].groupby('status_group').count().amount_tsh"
      ],
      "execution_count": 327,
      "outputs": [
        {
          "output_type": "execute_result",
          "data": {
            "text/plain": [
              "status_group\n",
              "functional                 19706\n",
              "functional needs repair     3048\n",
              "non functional             18885\n",
              "Name: amount_tsh, dtype: int64"
            ]
          },
          "metadata": {},
          "execution_count": 327
        }
      ]
    },
    {
      "cell_type": "markdown",
      "metadata": {
        "id": "OoW0PdDKWJT9"
      },
      "source": [
        "In here `amount_tsh` feature is not usefull because, more than 70% data has 0.0 for `amount_tsh`. So we can drop `amount_tsh`."
      ]
    },
    {
      "cell_type": "markdown",
      "metadata": {
        "id": "pNU_XSaAZmfc"
      },
      "source": [
        "##### `date_recorded` check"
      ]
    },
    {
      "cell_type": "markdown",
      "metadata": {
        "id": "_Mj2nqU5aSlc"
      },
      "source": [
        "`date_recorded` has no information with wells. Because almost all infortion of `data_recorded` lies on the 2011-2013 time period."
      ]
    },
    {
      "cell_type": "markdown",
      "metadata": {
        "id": "7O81Y-24ejBR"
      },
      "source": [
        "##### `num_private` check"
      ]
    },
    {
      "cell_type": "code",
      "metadata": {
        "colab": {
          "base_uri": "https://localhost:8080/"
        },
        "id": "_msSGcL8ertR",
        "outputId": "af067acc-bade-4107-fc5b-9a4b4dad90a3"
      },
      "source": [
        "train_data.num_private.value_counts()"
      ],
      "execution_count": 328,
      "outputs": [
        {
          "output_type": "execute_result",
          "data": {
            "text/plain": [
              "0      58643\n",
              "6         81\n",
              "1         73\n",
              "5         46\n",
              "8         46\n",
              "       ...  \n",
              "180        1\n",
              "213        1\n",
              "23         1\n",
              "55         1\n",
              "94         1\n",
              "Name: num_private, Length: 65, dtype: int64"
            ]
          },
          "metadata": {},
          "execution_count": 328
        }
      ]
    },
    {
      "cell_type": "markdown",
      "metadata": {
        "id": "rt8GVw0ke2CB"
      },
      "source": [
        "Almost all values of the in this feature is 0. So we drop `num_private`."
      ]
    },
    {
      "cell_type": "markdown",
      "metadata": {
        "id": "trlpXsaneW0p"
      },
      "source": [
        "##### `subvillage` check"
      ]
    },
    {
      "cell_type": "code",
      "metadata": {
        "colab": {
          "base_uri": "https://localhost:8080/"
        },
        "id": "nFqVSDKaUFyI",
        "outputId": "b8547c95-4f69-4ea1-cb4d-b697c461c161"
      },
      "source": [
        "train_data.subvillage.value_counts()"
      ],
      "execution_count": 329,
      "outputs": [
        {
          "output_type": "execute_result",
          "data": {
            "text/plain": [
              "Madukani             508\n",
              "Shuleni              506\n",
              "Majengo              502\n",
              "Kati                 373\n",
              "None                 371\n",
              "                    ... \n",
              "Ilookisiti             0\n",
              "Mwangwika              0\n",
              "Mwanholo               0\n",
              "Ilolangulu Center      0\n",
              "Mangomela              0\n",
              "Name: subvillage, Length: 21426, dtype: int64"
            ]
          },
          "metadata": {},
          "execution_count": 329
        }
      ]
    },
    {
      "cell_type": "markdown",
      "metadata": {
        "id": "LAgvcH9XUcNW"
      },
      "source": [
        "We also can remove this feature because this feature has lots of unique values and region also has this informations."
      ]
    },
    {
      "cell_type": "markdown",
      "metadata": {
        "id": "Hx3ybcxggIyg"
      },
      "source": [
        "##### `recorded_by` Check"
      ]
    },
    {
      "cell_type": "code",
      "metadata": {
        "colab": {
          "base_uri": "https://localhost:8080/"
        },
        "id": "XrGMA4uwgPIw",
        "outputId": "7f85f88d-341d-4cad-b2cb-06a993eda0c5"
      },
      "source": [
        "train_data.recorded_by.unique()"
      ],
      "execution_count": 330,
      "outputs": [
        {
          "output_type": "execute_result",
          "data": {
            "text/plain": [
              "['GeoData Consultants Ltd']\n",
              "Categories (1, object): ['GeoData Consultants Ltd']"
            ]
          },
          "metadata": {},
          "execution_count": 330
        }
      ]
    },
    {
      "cell_type": "markdown",
      "metadata": {
        "id": "yFK5ZxcEgWYb"
      },
      "source": [
        "This has one values. So we drop `recorded_by` feature."
      ]
    },
    {
      "cell_type": "markdown",
      "metadata": {
        "id": "L9zJXN-YN0LK"
      },
      "source": [
        "##### Drop unwanted features"
      ]
    },
    {
      "cell_type": "code",
      "metadata": {
        "colab": {
          "base_uri": "https://localhost:8080/"
        },
        "id": "HP-JFV5FUoX2",
        "outputId": "e9de1577-9d35-4634-a58b-4ff2fd721901"
      },
      "source": [
        "## droped useless values.\n",
        "all_data = pd.concat([train_data, test_data])\n",
        "all_data.drop(columns=['wpt_name','scheme_name','region_code', 'amount_tsh','date_recorded','num_private', 'subvillage', 'recorded_by'],inplace=True )\n",
        "train_data = all_data.loc[train_data.index, :]\n",
        "test_data = all_data.loc[test_data.index, :]\n",
        "train_data.info()"
      ],
      "execution_count": 331,
      "outputs": [
        {
          "output_type": "stream",
          "name": "stdout",
          "text": [
            "<class 'pandas.core.frame.DataFrame'>\n",
            "Int64Index: 59400 entries, 69572 to 26348\n",
            "Data columns (total 22 columns):\n",
            " #   Column                 Non-Null Count  Dtype   \n",
            "---  ------                 --------------  -----   \n",
            " 0   funder                 59400 non-null  category\n",
            " 1   gps_height             59400 non-null  int64   \n",
            " 2   installer              59400 non-null  category\n",
            " 3   longitude              59400 non-null  float64 \n",
            " 4   latitude               59400 non-null  float64 \n",
            " 5   basin                  59400 non-null  category\n",
            " 6   region                 59400 non-null  category\n",
            " 7   district_code          59400 non-null  category\n",
            " 8   lga                    59400 non-null  category\n",
            " 9   ward                   59400 non-null  category\n",
            " 10  population             59400 non-null  int64   \n",
            " 11  public_meeting         59400 non-null  category\n",
            " 12  permit                 59400 non-null  category\n",
            " 13  construction_year      59400 non-null  category\n",
            " 14  extraction_type_group  59400 non-null  category\n",
            " 15  management             59400 non-null  category\n",
            " 16  payment                59400 non-null  category\n",
            " 17  water_quality          59400 non-null  category\n",
            " 18  quantity               59400 non-null  category\n",
            " 19  source                 59400 non-null  category\n",
            " 20  waterpoint_type        59400 non-null  category\n",
            " 21  status_group           59400 non-null  object  \n",
            "dtypes: category(17), float64(2), int64(2), object(1)\n",
            "memory usage: 6.7+ MB\n"
          ]
        }
      ]
    },
    {
      "cell_type": "markdown",
      "metadata": {
        "id": "A1h-V7LERczI"
      },
      "source": [
        "##### `installer` and `funder` categories reduce"
      ]
    },
    {
      "cell_type": "code",
      "metadata": {
        "id": "0RQeQUFTTkqV"
      },
      "source": [
        "train_data.installer.replace(to_replace = '0', value ='None' , inplace=True)  ## replace \"0\" with None\n",
        "test_data.installer.replace(to_replace = '0', value ='None' , inplace=True) \n",
        "train_data.installer.replace(to_replace = 'Unknown', value ='None' , inplace=True)  ## replace \"0\" with None\n",
        "test_data.installer.replace(to_replace = 'Unknown', value ='None' , inplace=True) "
      ],
      "execution_count": 332,
      "outputs": []
    },
    {
      "cell_type": "code",
      "metadata": {
        "colab": {
          "base_uri": "https://localhost:8080/"
        },
        "id": "h4yzdA60R0U9",
        "outputId": "9b1ecf27-6436-486c-ac0b-f50e4cb4fa6f"
      },
      "source": [
        "populated_categories_installer = ['DWE','None','Government','Community','DANIDA','HESAWA','RWE','District council', 'Central government',\n",
        "         'KKKT','TCRS', 'world vision', 'CES', 'Fini Water', 'RC Church','villagers','LGA']\n",
        "train_data.loc[~train_data[\"installer\"].isin(populated_categories_installer), \"installer\"] = \"Others\"\n",
        "test_data.loc[~test_data[\"installer\"].isin(populated_categories_installer), \"installer\"] = \"Others\"\n",
        "train_data.installer = train_data.installer.cat.remove_unused_categories()\n",
        "test_data.installer = test_data.installer.cat.remove_unused_categories()\n",
        "print(train_data.installer.value_counts())"
      ],
      "execution_count": 333,
      "outputs": [
        {
          "output_type": "stream",
          "name": "stdout",
          "text": [
            "Others                21983\n",
            "DWE                   17402\n",
            "None                   4435\n",
            "Government             2660\n",
            "Community              1674\n",
            "DANIDA                 1602\n",
            "HESAWA                 1379\n",
            "RWE                    1206\n",
            "District council       1179\n",
            "Central government     1114\n",
            "KKKT                    898\n",
            "TCRS                    707\n",
            "world vision            681\n",
            "CES                     610\n",
            "Fini Water              593\n",
            "RC Church               461\n",
            "LGA                     408\n",
            "villagers               408\n",
            "Name: installer, dtype: int64\n"
          ]
        }
      ]
    },
    {
      "cell_type": "markdown",
      "metadata": {
        "id": "NKG9EfZDbijw"
      },
      "source": [
        "We change the \"0\", \"Unknown\" values with the \"None\". In impute function its automatically replace `nan` with the \"None\". Then we keep categories which has more than 400 data rows and drop others."
      ]
    },
    {
      "cell_type": "code",
      "metadata": {
        "id": "FeWrz4jycLX_"
      },
      "source": [
        "train_data.funder.replace(to_replace = '0', value ='None' , inplace=True)  ## replace \"0\" with None\n",
        "test_data.funder.replace(to_replace = '0', value ='None' , inplace=True) \n",
        "train_data.funder.replace(to_replace = 'Unknown', value ='None' , inplace=True)  ## replace \"0\" with None\n",
        "test_data.funder.replace(to_replace = 'Unknown', value ='None' , inplace=True) "
      ],
      "execution_count": 334,
      "outputs": []
    },
    {
      "cell_type": "code",
      "metadata": {
        "colab": {
          "base_uri": "https://localhost:8080/"
        },
        "id": "2dmCWAfdc56x",
        "outputId": "ccc1881e-57c2-419e-9d07-9187b6cc6775"
      },
      "source": [
        "populated_categories_funder = ['Government Of Tanzania','Unknown','Danida','Hesawa','Rwssp','World Bank','Kkkt', 'World Vision',\n",
        "         'Unicef','Tasaf','District Council', 'Dhv', 'Private Individual', 'Dwsp','Norad','Germany Republi',\n",
        "         'Tcrs','Ministry Of Water','Water','Dwe']\n",
        "train_data.loc[~train_data[\"funder\"].isin(populated_categories_funder), \"funder\"] = \"Others\"\n",
        "test_data.loc[~test_data[\"funder\"].isin(populated_categories_funder), \"funder\"] = \"Others\"\n",
        "train_data.funder = train_data.funder.cat.remove_unused_categories()\n",
        "test_data.funder = test_data.funder.cat.remove_unused_categories()\n",
        "print(train_data.funder.value_counts())"
      ],
      "execution_count": 335,
      "outputs": [
        {
          "output_type": "stream",
          "name": "stdout",
          "text": [
            "Others                    30867\n",
            "Government Of Tanzania     9084\n",
            "Danida                     3114\n",
            "Hesawa                     2202\n",
            "Rwssp                      1374\n",
            "World Bank                 1349\n",
            "Kkkt                       1287\n",
            "World Vision               1246\n",
            "Unicef                     1057\n",
            "Tasaf                       877\n",
            "District Council            843\n",
            "Dhv                         829\n",
            "Private Individual          826\n",
            "Dwsp                        811\n",
            "Norad                       765\n",
            "Germany Republi             610\n",
            "Tcrs                        602\n",
            "Ministry Of Water           590\n",
            "Water                       583\n",
            "Dwe                         484\n",
            "Name: funder, dtype: int64\n"
          ]
        }
      ]
    },
    {
      "cell_type": "markdown",
      "metadata": {
        "id": "zVaZsO2keUAS"
      },
      "source": [
        "We change the \"0\", \"Unknown\" values with the \"None\". In impute function its automatically replace nan with the \"None\". Then we keep first 20 categories  and drop others."
      ]
    },
    {
      "cell_type": "markdown",
      "metadata": {
        "id": "KE7-8YNNeeqx"
      },
      "source": [
        "##### `longitute` and `latitute` \"0\" value handle"
      ]
    },
    {
      "cell_type": "code",
      "metadata": {
        "colab": {
          "base_uri": "https://localhost:8080/"
        },
        "id": "hIj3R3vfes_e",
        "outputId": "bffcc579-6b1f-4f48-8bfc-13c583f13da5"
      },
      "source": [
        "train_data.longitude.value_counts()"
      ],
      "execution_count": 336,
      "outputs": [
        {
          "output_type": "execute_result",
          "data": {
            "text/plain": [
              "0.000000     1812\n",
              "37.540901       2\n",
              "33.010510       2\n",
              "39.093484       2\n",
              "32.972719       2\n",
              "             ... \n",
              "37.579803       1\n",
              "33.196490       1\n",
              "34.017119       1\n",
              "33.788326       1\n",
              "30.163579       1\n",
              "Name: longitude, Length: 57516, dtype: int64"
            ]
          },
          "metadata": {},
          "execution_count": 336
        }
      ]
    },
    {
      "cell_type": "code",
      "metadata": {
        "colab": {
          "base_uri": "https://localhost:8080/"
        },
        "id": "VYSmA8Okfohv",
        "outputId": "db00140a-3bae-4a8b-a7c7-d4ca0880551c"
      },
      "source": [
        "train_data.loc[train_data.longitude!=0].longitude.describe()"
      ],
      "execution_count": 337,
      "outputs": [
        {
          "output_type": "execute_result",
          "data": {
            "text/plain": [
              "count    57588.000000\n",
              "mean        35.149669\n",
              "std          2.607428\n",
              "min         29.607122\n",
              "25%         33.285100\n",
              "50%         35.005943\n",
              "75%         37.233712\n",
              "max         40.345193\n",
              "Name: longitude, dtype: float64"
            ]
          },
          "metadata": {},
          "execution_count": 337
        }
      ]
    },
    {
      "cell_type": "code",
      "metadata": {
        "id": "_WhLad15f3Xn"
      },
      "source": [
        "train_data.longitude.replace(to_replace = 0 , value =35.15, inplace=True)\n",
        "test_data.longitude.replace(to_replace = 0 , value =35.15, inplace=True)"
      ],
      "execution_count": 338,
      "outputs": []
    },
    {
      "cell_type": "markdown",
      "metadata": {
        "id": "j5WnDu8QgxGu"
      },
      "source": [
        "There are 1812, 0 rows on longitude. We can think it as unknown longitude and obviously they are outliers. So we replace them with mean."
      ]
    },
    {
      "cell_type": "code",
      "metadata": {
        "colab": {
          "base_uri": "https://localhost:8080/"
        },
        "id": "yQbroGCKhWlX",
        "outputId": "95e4f876-8c4f-4507-c532-935c4d54aa18"
      },
      "source": [
        "train_data.latitude.value_counts()"
      ],
      "execution_count": 339,
      "outputs": [
        {
          "output_type": "execute_result",
          "data": {
            "text/plain": [
              "-2.000000e-08    1812\n",
              "-6.985842e+00       2\n",
              "-3.797579e+00       2\n",
              "-6.981884e+00       2\n",
              "-7.104625e+00       2\n",
              "                 ... \n",
              "-5.726001e+00       1\n",
              "-9.646831e+00       1\n",
              "-8.124530e+00       1\n",
              "-2.535985e+00       1\n",
              "-2.598965e+00       1\n",
              "Name: latitude, Length: 57517, dtype: int64"
            ]
          },
          "metadata": {},
          "execution_count": 339
        }
      ]
    },
    {
      "cell_type": "markdown",
      "metadata": {
        "id": "ekkdmtmAhaTr"
      },
      "source": [
        "latitue is safe beacuse it doesn't have 0 values."
      ]
    },
    {
      "cell_type": "markdown",
      "metadata": {
        "id": "HfJNM0bchgKt"
      },
      "source": [
        "##### `permit` and `public_meetinng` replace missing value with most common value"
      ]
    },
    {
      "cell_type": "code",
      "metadata": {
        "colab": {
          "base_uri": "https://localhost:8080/"
        },
        "id": "2g8FcdYFhkAt",
        "outputId": "a64038cd-297a-41d7-94eb-46197820a799"
      },
      "source": [
        "train_data.permit.unique()"
      ],
      "execution_count": 340,
      "outputs": [
        {
          "output_type": "execute_result",
          "data": {
            "text/plain": [
              "[False, True, 'None']\n",
              "Categories (3, object): [False, True, 'None']"
            ]
          },
          "metadata": {},
          "execution_count": 340
        }
      ]
    },
    {
      "cell_type": "code",
      "metadata": {
        "colab": {
          "base_uri": "https://localhost:8080/"
        },
        "id": "4dxYsm_wjfol",
        "outputId": "0b7a9a76-8f03-40e2-e317-2e395bc83cea"
      },
      "source": [
        "train_data.permit.value_counts()"
      ],
      "execution_count": 341,
      "outputs": [
        {
          "output_type": "execute_result",
          "data": {
            "text/plain": [
              "True     38852\n",
              "False    17492\n",
              "None      3056\n",
              "Name: permit, dtype: int64"
            ]
          },
          "metadata": {},
          "execution_count": 341
        }
      ]
    },
    {
      "cell_type": "code",
      "metadata": {
        "colab": {
          "base_uri": "https://localhost:8080/"
        },
        "id": "_Ev3_BgBj7GN",
        "outputId": "d9842344-5b9d-4161-97b5-c50fa5e55ba0"
      },
      "source": [
        "train_data.permit.replace(to_replace = \"None\" , value = True, inplace=True)\n",
        "test_data.permit.replace(to_replace = \"None\" , value = True, inplace=True)\n",
        "train_data.permit.value_counts()"
      ],
      "execution_count": 342,
      "outputs": [
        {
          "output_type": "execute_result",
          "data": {
            "text/plain": [
              "True     41908\n",
              "False    17492\n",
              "Name: permit, dtype: int64"
            ]
          },
          "metadata": {},
          "execution_count": 342
        }
      ]
    },
    {
      "cell_type": "code",
      "metadata": {
        "colab": {
          "base_uri": "https://localhost:8080/"
        },
        "id": "fStu0Cg7k__j",
        "outputId": "31ec317f-a0a2-49b1-9b4f-22c25591d76b"
      },
      "source": [
        "print(train_data.public_meeting.unique())\n",
        "print(train_data.public_meeting.value_counts())"
      ],
      "execution_count": 343,
      "outputs": [
        {
          "output_type": "stream",
          "name": "stdout",
          "text": [
            "[True, 'None', False]\n",
            "Categories (3, object): [True, 'None', False]\n",
            "True     51011\n",
            "False     5055\n",
            "None      3334\n",
            "Name: public_meeting, dtype: int64\n"
          ]
        }
      ]
    },
    {
      "cell_type": "code",
      "metadata": {
        "colab": {
          "base_uri": "https://localhost:8080/"
        },
        "id": "mR-0TIhElLfT",
        "outputId": "39890076-d88e-44a3-a188-39cf07253741"
      },
      "source": [
        "train_data.public_meeting.replace(to_replace = \"None\" , value = True, inplace=True)\n",
        "test_data.public_meeting.replace(to_replace = \"None\" , value = True, inplace=True)\n",
        "train_data.public_meeting.value_counts()"
      ],
      "execution_count": 344,
      "outputs": [
        {
          "output_type": "execute_result",
          "data": {
            "text/plain": [
              "True     54345\n",
              "False     5055\n",
              "Name: public_meeting, dtype: int64"
            ]
          },
          "metadata": {},
          "execution_count": 344
        }
      ]
    },
    {
      "cell_type": "markdown",
      "metadata": {
        "id": "NHLkAXc6YPl-"
      },
      "source": [
        "##### `population` '0' value handle"
      ]
    },
    {
      "cell_type": "code",
      "metadata": {
        "colab": {
          "base_uri": "https://localhost:8080/"
        },
        "id": "nhA29iY1YYBg",
        "outputId": "ce38eae1-a921-49fe-b51e-bd711ac8e087"
      },
      "source": [
        "print(train_data.population.head())\n",
        "print(\"\\n\")\n",
        "print(train_data.loc[train_data.population!=0].population.describe())"
      ],
      "execution_count": 345,
      "outputs": [
        {
          "output_type": "stream",
          "name": "stdout",
          "text": [
            "id\n",
            "69572    109\n",
            "8776     280\n",
            "34310    250\n",
            "67743     58\n",
            "19728      0\n",
            "Name: population, dtype: int64\n",
            "\n",
            "\n",
            "count    38019.000000\n",
            "mean       281.087167\n",
            "std        564.687660\n",
            "min          1.000000\n",
            "25%         40.000000\n",
            "50%        150.000000\n",
            "75%        324.000000\n",
            "max      30500.000000\n",
            "Name: population, dtype: float64\n"
          ]
        }
      ]
    },
    {
      "cell_type": "code",
      "metadata": {
        "colab": {
          "base_uri": "https://localhost:8080/"
        },
        "id": "w-DZ3Ft5Y2cF",
        "outputId": "3d0bd649-2254-4166-f330-ec885aa507c9"
      },
      "source": [
        "train_data.population.replace(to_replace = 0 , value = 281, inplace=True)\n",
        "test_data.population.replace(to_replace = 0 , value = 281, inplace=True)\n",
        "train_data.population.head(10)"
      ],
      "execution_count": 346,
      "outputs": [
        {
          "output_type": "execute_result",
          "data": {
            "text/plain": [
              "id\n",
              "69572    109\n",
              "8776     280\n",
              "34310    250\n",
              "67743     58\n",
              "19728    281\n",
              "9944       1\n",
              "19816    281\n",
              "54551    281\n",
              "53934    281\n",
              "46144    281\n",
              "Name: population, dtype: int64"
            ]
          },
          "metadata": {},
          "execution_count": 346
        }
      ]
    },
    {
      "cell_type": "markdown",
      "metadata": {
        "id": "mOUin03RPliI"
      },
      "source": [
        "## Feature Engineering"
      ]
    },
    {
      "cell_type": "markdown",
      "metadata": {
        "id": "FxCH184GPsm2"
      },
      "source": [
        "#### Mutual infomation check"
      ]
    },
    {
      "cell_type": "code",
      "metadata": {
        "id": "FibLAjJIPw3E"
      },
      "source": [
        "def make_mi_scores(X, y, is_one_hot_encode):\n",
        "    X = X.copy()\n",
        "    if is_one_hot_encode:\n",
        "        for colname in X.select_dtypes([\"category\", \"object\"]):\n",
        "            X_dummies = pd.get_dummies(X[colname], drop_first=False,prefix = colname)\n",
        "            X = X.join(X_dummies)\n",
        "            X = X.drop(colname,1)\n",
        "    else:\n",
        "        for colname in X.select_dtypes([\"object\", \"category\"]):\n",
        "            X[colname], _ = X[colname].factorize()\n",
        "\n",
        "    # All discrete features should now have integer dtypes\n",
        "    discrete_features = [pd.api.types.is_integer_dtype(t) for t in X.dtypes]\n",
        "    mi_scores = mutual_info_classif(X, y, discrete_features='auto', random_state=0)\n",
        "    mi_scores = pd.Series(mi_scores, name=\"MI Scores\", index=X.columns)\n",
        "    mi_scores = mi_scores.sort_values(ascending=False)\n",
        "    return mi_scores\n",
        "\n",
        "def plot_mi_scores(scores):\n",
        "    scores = scores.sort_values(ascending=True)\n",
        "    width = np.arange(len(scores))\n",
        "    ticks = list(scores.index)\n",
        "    plt.barh(width, scores)\n",
        "    plt.yticks(width, ticks)\n",
        "    plt.title(\"Mutual Information Scores\")"
      ],
      "execution_count": 347,
      "outputs": []
    },
    {
      "cell_type": "code",
      "metadata": {
        "colab": {
          "base_uri": "https://localhost:8080/",
          "height": 0
        },
        "id": "6Z8c3TWSP1Gm",
        "outputId": "e461e872-1bb6-42ce-8b07-1b591a2333b9"
      },
      "source": [
        "X_train = train_data.copy()\n",
        "y_train = X_train.pop(\"status_group\")\n",
        "mi_scores = make_mi_scores(X_train.copy(), y_train, False)\n",
        "print(mi_scores)\n",
        "\n",
        "plt.figure(dpi=100, figsize=(16, 10))\n",
        "plot_mi_scores(mi_scores)"
      ],
      "execution_count": 348,
      "outputs": [
        {
          "output_type": "stream",
          "name": "stdout",
          "text": [
            "ward                     0.180663\n",
            "quantity                 0.107691\n",
            "lga                      0.088305\n",
            "longitude                0.066381\n",
            "waterpoint_type          0.066140\n",
            "extraction_type_group    0.061365\n",
            "latitude                 0.060861\n",
            "region                   0.042456\n",
            "construction_year        0.034043\n",
            "payment                  0.032248\n",
            "funder                   0.029547\n",
            "installer                0.029194\n",
            "source                   0.025937\n",
            "population               0.021359\n",
            "water_quality            0.019420\n",
            "basin                    0.019118\n",
            "management               0.017706\n",
            "gps_height               0.016582\n",
            "district_code            0.015665\n",
            "permit                   0.005748\n",
            "public_meeting           0.000000\n",
            "Name: MI Scores, dtype: float64\n"
          ]
        },
        {
          "output_type": "display_data",
          "data": {
            "image/png": "[encoded data removed]",
            "text/plain": [
              "<Figure size 1600x1000 with 1 Axes>"
            ]
          },
          "metadata": {
            "needs_background": "light"
          }
        }
      ]
    },
    {
      "cell_type": "code",
      "metadata": {
        "colab": {
          "base_uri": "https://localhost:8080/",
          "height": 0
        },
        "id": "tBDJqwtTP5IH",
        "outputId": "31820d23-d66c-4f28-c86b-e9e562adc274"
      },
      "source": [
        "sns.countplot(train_data['status_group'])"
      ],
      "execution_count": 349,
      "outputs": [
        {
          "output_type": "stream",
          "name": "stderr",
          "text": [
            "/usr/local/lib/python3.7/dist-packages/seaborn/_decorators.py:43: FutureWarning: Pass the following variable as a keyword arg: x. From version 0.12, the only valid positional argument will be `data`, and passing other arguments without an explicit keyword will result in an error or misinterpretation.\n",
            "  FutureWarning\n"
          ]
        },
        {
          "output_type": "execute_result",
          "data": {
            "text/plain": [
              "<matplotlib.axes._subplots.AxesSubplot at 0x7fb16e831210>"
            ]
          },
          "metadata": {},
          "execution_count": 349
        },
        {
          "output_type": "display_data",
          "data": {
            "image/png": "[encoded data removed]",
            "text/plain": [
              "<Figure size 432x288 with 1 Axes>"
            ]
          },
          "metadata": {
            "needs_background": "light"
          }
        }
      ]
    },
    {
      "cell_type": "markdown",
      "metadata": {
        "id": "EJGTPkZoP8YN"
      },
      "source": [
        "'funtional' wells amount is near 30k but 'non-functional' has only 20k and 'functional nedd repair' has near 5k data."
      ]
    },
    {
      "cell_type": "markdown",
      "metadata": {
        "id": "GIXKZEEXpgo5"
      },
      "source": [
        "#### `construction_year` Binning to decade"
      ]
    },
    {
      "cell_type": "code",
      "metadata": {
        "id": "D_W60r-KprhF"
      },
      "source": [
        "def construction_year_binning(df):\n",
        "  df['construction_decade'] = df['construction_year']\n",
        "\n",
        "  df['construction_decade'].replace(to_replace = (1960,1961,1962,1963,1964,1965,1966,1967,1968,1969),\n",
        "                          value ='60s' , inplace=True)\n",
        "  df['construction_decade'].replace(to_replace = (1970,1971,1972,1973,1974,1975,1976,1977,1978,1979),\n",
        "                          value ='70s' , inplace=True)\n",
        "  df['construction_decade'].replace(to_replace = (1980,1981,1982,1983,1984,1985,1986,1987,1988,1989),\n",
        "                          value ='80s' , inplace=True)\n",
        "  df['construction_decade'].replace(to_replace = (1990,1991,1992,1993,1994,1995,1996,1997,1998,1999),\n",
        "                          value ='90s' , inplace=True)\n",
        "  df['construction_decade'].replace(to_replace = (2000,2001,2002,2003,2004,2005,2006,2007,2008,2009),\n",
        "                          value ='00s' , inplace=True)\n",
        "  df['construction_decade'].replace(to_replace = (2010,2011,2012,2013),\n",
        "                          value ='10s' , inplace=True)\n",
        "  df.drop(columns=['construction_year'],inplace=True )\n",
        "  return df\n",
        "train_data = construction_year_binning(train_data)\n",
        "test_data = construction_year_binning(test_data)"
      ],
      "execution_count": 350,
      "outputs": []
    },
    {
      "cell_type": "code",
      "metadata": {
        "colab": {
          "base_uri": "https://localhost:8080/"
        },
        "id": "R-_KzcOosYie",
        "outputId": "1692de6b-05a8-465d-ab1b-191c06b5f961"
      },
      "source": [
        "train_data.construction_decade.unique()"
      ],
      "execution_count": 351,
      "outputs": [
        {
          "output_type": "execute_result",
          "data": {
            "text/plain": [
              "['90s', '10s', '00s', '80s', 0, '70s', '60s']\n",
              "Categories (7, object): ['90s', '10s', '00s', '80s', 0, '70s', '60s']"
            ]
          },
          "metadata": {},
          "execution_count": 351
        }
      ]
    },
    {
      "cell_type": "markdown",
      "metadata": {
        "id": "pE6NOQDPi5rk"
      },
      "source": [
        "#### `status_group` binning"
      ]
    },
    {
      "cell_type": "code",
      "metadata": {
        "id": "Ej3Wjb2bjJcB"
      },
      "source": [
        "target_status_group = {'functional':0,\n",
        "                       'functional needs repair': 1,\n",
        "                       'non functional': 2\n",
        "} \n",
        "train_data['status_group'] = train_data['status_group'].replace(target_status_group)"
      ],
      "execution_count": 352,
      "outputs": []
    },
    {
      "cell_type": "markdown",
      "metadata": {
        "id": "PQtbrDXbsmZU"
      },
      "source": [
        "#### Score check"
      ]
    },
    {
      "cell_type": "code",
      "metadata": {
        "id": "VFPKfvqZ4biL"
      },
      "source": [
        "def score_dataset(X_train, y, model= RandomForestClassifier(criterion='gini', \n",
        "                             n_estimators=100,\n",
        "                             min_samples_split=10,\n",
        "                             min_samples_leaf=1,\n",
        "                             max_features='auto',\n",
        "                             oob_score=True,\n",
        "                             random_state=1,\n",
        "                             n_jobs=-1, verbose=2, class_weight = 'balanced')):\n",
        "\n",
        "    for colname in X_train.select_dtypes([\"category\", \"object\"]):\n",
        "        X_dummies = pd.get_dummies(X_train[colname], drop_first=False,prefix = colname)\n",
        "        X_train = X_train.join(X_dummies)\n",
        "        X_train = X_train.drop(colname,1)\n",
        "\n",
        "    for colname in y.select_dtypes([\"category\", \"object\"]):\n",
        "        dummies = pd.get_dummies(y[colname], prefix=colname, drop_first=False) # One hot encoding\n",
        "        y = y.join(dummies)\n",
        "        y = y.drop(colname, 1)\n",
        "    X_train, X_test, y_train, y_test = train_test_split(X_train, y, test_size=0.2, random_state=42)\n",
        "    model.fit(X_train,y_train)\n",
        "    y_pred = model.predict(X_train)\n",
        "\n",
        "    # predictions on test set\n",
        "    y_pred_test = model.predict(X_test)  \n",
        "    # to print the results in good way\n",
        "    print(\"Accuracy:\"); print(\"=\"*len(\"Accuracy:\"))\n",
        "    print(f\"TRAIN: {accuracy_score(y_train, y_pred)}\")\n",
        "    print(f\"TEST: {accuracy_score(y_test, y_pred_test)}\")\n",
        "\n",
        "    print(\"\\nBalanced Accuracy:\"); print(\"=\"*len(\"Balanced Accuracy:\"))\n",
        "    print(f\"TRAIN: {balanced_accuracy_score(y_train, y_pred)}\")\n",
        "    print(f\"TEST: {balanced_accuracy_score(y_test, y_pred_test)}\")\n",
        "    # score = cross_val_score(\n",
        "    #     model, X_train, y, cv=2, scoring=\"neg_mean_squared_log_error\",\n",
        "    # )\n",
        "    # score = -1 * score.mean()\n",
        "    # score = np.sqrt(score)\n",
        "    return model"
      ],
      "execution_count": 353,
      "outputs": []
    },
    {
      "cell_type": "code",
      "metadata": {
        "id": "lV6Q-1qREFBN",
        "colab": {
          "base_uri": "https://localhost:8080/"
        },
        "outputId": "32973c7e-b451-4aa0-d3fe-c5f263d6798a"
      },
      "source": [
        "# features = [\"amount_tsh\",\"source\"]\n",
        "# display(train_data.head(10))\n",
        "X = train_data.copy()\n",
        "y = train_data[[\"status_group\"]].copy()\n",
        "X.pop('status_group')\n",
        "# score_dataset(X.copy(), y.copy())\n",
        "train_data.status_group.head()"
      ],
      "execution_count": 354,
      "outputs": [
        {
          "output_type": "execute_result",
          "data": {
            "text/plain": [
              "id\n",
              "69572    0\n",
              "8776     0\n",
              "34310    0\n",
              "67743    2\n",
              "19728    0\n",
              "Name: status_group, dtype: int64"
            ]
          },
          "metadata": {},
          "execution_count": 354
        }
      ]
    },
    {
      "cell_type": "code",
      "metadata": {
        "id": "6Hx43xVqEw0a"
      },
      "source": [
        "# for i in train_data.gps_height.value_counts().head(200): print(i)\n",
        "# plt.figure(1, figsize=(20,60))\n",
        "# train_data.loc[train_data['gps_height']!=0].gps_height.plot(kind='bar')"
      ],
      "execution_count": 355,
      "outputs": []
    },
    {
      "cell_type": "markdown",
      "metadata": {
        "id": "RHnrMWIDtZTe"
      },
      "source": [
        "#### Clutering longitute and latitude"
      ]
    },
    {
      "cell_type": "code",
      "metadata": {
        "id": "b3tCBjJ7sBQ_"
      },
      "source": [
        "def cluster_labels(df, features, n_clusters=20):\n",
        "    X = df.copy()\n",
        "    X_scaled = X.loc[:, features]\n",
        "    X_scaled = (X_scaled - X_scaled.mean(axis=0)) / X_scaled.std(axis=0)\n",
        "    kmeans = KMeans(n_clusters=n_clusters, n_init=50, random_state=0)\n",
        "#     print(X_scaled)\n",
        "    X_new = X.loc[:, features]\n",
        "    X_new[\"Cluster\"] = kmeans.fit_predict(X_scaled)\n",
        "    return X_new, kmeans\n",
        "\n",
        "\n",
        "def cluster_distance(df, features, n_clusters=20):\n",
        "    X = df.copy()\n",
        "    X_scaled = X.loc[:, features]\n",
        "    X_scaled = (X_scaled - X_scaled.mean(axis=0)) / X_scaled.std(axis=0)\n",
        "    kmeans = KMeans(n_clusters=n_clusters, n_init=50, random_state=0)\n",
        "    X_cd = kmeans.fit_transform(X_scaled)\n",
        "    # Label features and join to dataset\n",
        "    X_cd = pd.DataFrame(\n",
        "        X_cd, columns=[f\"Centroid_{i}\" for i in range(X_cd.shape[1])]\n",
        "    )\n",
        "    return X_cd"
      ],
      "execution_count": 356,
      "outputs": []
    },
    {
      "cell_type": "code",
      "metadata": {
        "id": "-P4KlgjFPkdR"
      },
      "source": [
        "def cluster_from_lon_lat(X_train_test):\n",
        "    cluster_features = [\"longitude\", \"latitude\"]\n",
        "    X_clustered, kmeans_feature_engineering = cluster_labels(X_train_test.copy(), cluster_features,12)\n",
        "    # print(X_clustered.head())\n",
        "    sns.relplot(\n",
        "        x=\"longitude\", y=\"latitude\", hue=\"Cluster\", data=X_clustered, height=5\n",
        "    );\n",
        "#     X_clustered_data = X_train.copy()\n",
        "    X_train_test['long_lat'] = X_clustered.Cluster\n",
        "    X_train_test['long_lat'] = X_train_test['long_lat'].astype(\"category\")\n",
        "    return X_train_test"
      ],
      "execution_count": 357,
      "outputs": []
    },
    {
      "cell_type": "code",
      "metadata": {
        "id": "AV7KWr97TzWX"
      },
      "source": [
        "# all_data = pd.concat([train_data, test_data])\n",
        "# cluster_from_lon_lat(all_data)\n",
        "# train_data = all_data.loc[train_data.index, :]\n",
        "# train_data.status_group= train_data.status_group.astype(\"int64\")\n",
        "# test_data = all_data.loc[test_data.index, :]"
      ],
      "execution_count": 358,
      "outputs": []
    },
    {
      "cell_type": "code",
      "metadata": {
        "id": "D2n_XhOdoXwu"
      },
      "source": [
        "train_data_dummy = train_data.copy()\n",
        "test_data_dummy = test_data.copy()\n",
        "# train_data_dummy.drop(columns=[\"longitude\", \"latitude\"], inplace=True)\n",
        "# test_data_dummy.drop(columns=[\"longitude\", \"latitude\"], inplace=True)"
      ],
      "execution_count": 359,
      "outputs": []
    },
    {
      "cell_type": "code",
      "metadata": {
        "colab": {
          "base_uri": "https://localhost:8080/"
        },
        "id": "izK7nQmHU4zr",
        "outputId": "e491bf9c-37b2-4207-9724-7d70715019f9"
      },
      "source": [
        "X = train_data_dummy.copy()\n",
        "y = train_data_dummy[[\"status_group\"]].copy()\n",
        "X.pop('status_group')\n",
        "# score_dataset(X.copy(), y.copy())"
      ],
      "execution_count": 360,
      "outputs": [
        {
          "output_type": "stream",
          "name": "stderr",
          "text": [
            "/usr/local/lib/python3.7/dist-packages/ipykernel_launcher.py:20: DataConversionWarning: A column-vector y was passed when a 1d array was expected. Please change the shape of y to (n_samples,), for example using ravel().\n",
            "[Parallel(n_jobs=-1)]: Using backend ThreadingBackend with 2 concurrent workers.\n"
          ]
        },
        {
          "output_type": "stream",
          "name": "stdout",
          "text": [
            "building tree 1 of 100building tree 2 of 100\n",
            "\n",
            "building tree 3 of 100\n",
            "building tree 4 of 100\n",
            "building tree 5 of 100\n",
            "building tree 6 of 100\n",
            "building tree 7 of 100\n",
            "building tree 8 of 100\n",
            "building tree 9 of 100\n",
            "building tree 10 of 100\n",
            "building tree 11 of 100\n",
            "building tree 12 of 100\n",
            "building tree 13 of 100\n",
            "building tree 14 of 100\n",
            "building tree 15 of 100\n",
            "building tree 16 of 100\n",
            "building tree 17 of 100\n",
            "building tree 18 of 100\n",
            "building tree 19 of 100\n",
            "building tree 20 of 100\n",
            "building tree 21 of 100\n",
            "building tree 22 of 100\n",
            "building tree 23 of 100\n",
            "building tree 24 of 100\n",
            "building tree 25 of 100\n",
            "building tree 26 of 100\n",
            "building tree 27 of 100\n",
            "building tree 28 of 100\n",
            "building tree 29 of 100\n",
            "building tree 30 of 100\n",
            "building tree 31 of 100\n",
            "building tree 32 of 100\n",
            "building tree 33 of 100\n",
            "building tree 34 of 100\n",
            "building tree 35 of 100\n",
            "building tree 36 of 100\n",
            "building tree 37 of 100\n",
            "building tree 38 of 100\n"
          ]
        },
        {
          "output_type": "stream",
          "name": "stderr",
          "text": [
            "[Parallel(n_jobs=-1)]: Done  37 tasks      | elapsed:   22.0s\n"
          ]
        },
        {
          "output_type": "stream",
          "name": "stdout",
          "text": [
            "building tree 39 of 100\n",
            "building tree 40 of 100\n",
            "building tree 41 of 100\n",
            "building tree 42 of 100\n",
            "building tree 43 of 100\n",
            "building tree 44 of 100\n",
            "building tree 45 of 100\n",
            "building tree 46 of 100\n",
            "building tree 47 of 100\n",
            "building tree 48 of 100\n",
            "building tree 49 of 100\n",
            "building tree 50 of 100\n",
            "building tree 51 of 100\n",
            "building tree 52 of 100\n",
            "building tree 53 of 100\n",
            "building tree 54 of 100\n",
            "building tree 55 of 100\n",
            "building tree 56 of 100\n",
            "building tree 57 of 100\n",
            "building tree 58 of 100\n",
            "building tree 59 of 100\n",
            "building tree 60 of 100\n",
            "building tree 61 of 100\n",
            "building tree 62 of 100\n",
            "building tree 63 of 100\n",
            "building tree 64 of 100\n",
            "building tree 65 of 100\n",
            "building tree 66 of 100\n",
            "building tree 67 of 100\n",
            "building tree 68 of 100\n",
            "building tree 69 of 100\n",
            "building tree 70 of 100\n",
            "building tree 71 of 100\n",
            "building tree 72 of 100\n",
            "building tree 73 of 100\n",
            "building tree 74 of 100\n",
            "building tree 75 of 100\n",
            "building tree 76 of 100\n",
            "building tree 77 of 100\n",
            "building tree 78 of 100\n",
            "building tree 79 of 100\n",
            "building tree 80 of 100\n",
            "building tree 81 of 100\n",
            "building tree 82 of 100\n",
            "building tree 83 of 100\n",
            "building tree 84 of 100\n",
            "building tree 85 of 100\n",
            "building tree 86 of 100\n",
            "building tree 87 of 100\n",
            "building tree 88 of 100\n",
            "building tree 89 of 100\n",
            "building tree 90 of 100\n",
            "building tree 91 of 100\n",
            "building tree 92 of 100\n",
            "building tree 93 of 100\n",
            "building tree 94 of 100\n",
            "building tree 95 of 100\n",
            "building tree 96 of 100\n",
            "building tree 97 of 100\n",
            "building tree 98 of 100\n",
            "building tree 99 of 100\n",
            "building tree 100 of 100\n"
          ]
        },
        {
          "output_type": "stream",
          "name": "stderr",
          "text": [
            "[Parallel(n_jobs=-1)]: Done 100 out of 100 | elapsed:   56.8s finished\n",
            "[Parallel(n_jobs=2)]: Using backend ThreadingBackend with 2 concurrent workers.\n",
            "[Parallel(n_jobs=2)]: Done  37 tasks      | elapsed:    0.9s\n",
            "[Parallel(n_jobs=2)]: Done 100 out of 100 | elapsed:    2.6s finished\n",
            "[Parallel(n_jobs=2)]: Using backend ThreadingBackend with 2 concurrent workers.\n",
            "[Parallel(n_jobs=2)]: Done  37 tasks      | elapsed:    0.2s\n"
          ]
        },
        {
          "output_type": "stream",
          "name": "stdout",
          "text": [
            "Accuracy:\n",
            "=========\n",
            "TRAIN: 0.8946127946127946\n",
            "TEST: 0.7835016835016835\n",
            "\n",
            "Balanced Accuracy:\n",
            "==================\n",
            "TRAIN: 0.9091153626876384\n",
            "TEST: 0.723813505130083\n"
          ]
        },
        {
          "output_type": "stream",
          "name": "stderr",
          "text": [
            "[Parallel(n_jobs=2)]: Done 100 out of 100 | elapsed:    0.5s finished\n"
          ]
        },
        {
          "output_type": "execute_result",
          "data": {
            "text/plain": [
              "RandomForestClassifier(bootstrap=True, ccp_alpha=0.0, class_weight='balanced',\n",
              "                       criterion='gini', max_depth=None, max_features='auto',\n",
              "                       max_leaf_nodes=None, max_samples=None,\n",
              "                       min_impurity_decrease=0.0, min_impurity_split=None,\n",
              "                       min_samples_leaf=1, min_samples_split=10,\n",
              "                       min_weight_fraction_leaf=0.0, n_estimators=100,\n",
              "                       n_jobs=-1, oob_score=True, random_state=1, verbose=2,\n",
              "                       warm_start=False)"
            ]
          },
          "metadata": {},
          "execution_count": 360
        }
      ]
    },
    {
      "cell_type": "code",
      "metadata": {
        "id": "s6PVQbZtoydg",
        "colab": {
          "base_uri": "https://localhost:8080/",
          "height": 698
        },
        "outputId": "a2810860-c2f7-415f-a7f0-33df31a9e991"
      },
      "source": [
        "train_data_dummy"
      ],
      "execution_count": 361,
      "outputs": [
        {
          "output_type": "execute_result",
          "data": {
            "text/html": [
              "<div>\n",
              "<style scoped>\n",
              "    .dataframe tbody tr th:only-of-type {\n",
              "        vertical-align: middle;\n",
              "    }\n",
              "\n",
              "    .dataframe tbody tr th {\n",
              "        vertical-align: top;\n",
              "    }\n",
              "\n",
              "    .dataframe thead th {\n",
              "        text-align: right;\n",
              "    }\n",
              "</style>\n",
              "<table border=\"1\" class=\"dataframe\">\n",
              "  <thead>\n",
              "    <tr style=\"text-align: right;\">\n",
              "      <th></th>\n",
              "      <th>funder</th>\n",
              "      <th>gps_height</th>\n",
              "      <th>installer</th>\n",
              "      <th>longitude</th>\n",
              "      <th>latitude</th>\n",
              "      <th>basin</th>\n",
              "      <th>region</th>\n",
              "      <th>district_code</th>\n",
              "      <th>lga</th>\n",
              "      <th>ward</th>\n",
              "      <th>population</th>\n",
              "      <th>public_meeting</th>\n",
              "      <th>permit</th>\n",
              "      <th>extraction_type_group</th>\n",
              "      <th>management</th>\n",
              "      <th>payment</th>\n",
              "      <th>water_quality</th>\n",
              "      <th>quantity</th>\n",
              "      <th>source</th>\n",
              "      <th>waterpoint_type</th>\n",
              "      <th>status_group</th>\n",
              "      <th>construction_decade</th>\n",
              "    </tr>\n",
              "    <tr>\n",
              "      <th>id</th>\n",
              "      <th></th>\n",
              "      <th></th>\n",
              "      <th></th>\n",
              "      <th></th>\n",
              "      <th></th>\n",
              "      <th></th>\n",
              "      <th></th>\n",
              "      <th></th>\n",
              "      <th></th>\n",
              "      <th></th>\n",
              "      <th></th>\n",
              "      <th></th>\n",
              "      <th></th>\n",
              "      <th></th>\n",
              "      <th></th>\n",
              "      <th></th>\n",
              "      <th></th>\n",
              "      <th></th>\n",
              "      <th></th>\n",
              "      <th></th>\n",
              "      <th></th>\n",
              "      <th></th>\n",
              "    </tr>\n",
              "  </thead>\n",
              "  <tbody>\n",
              "    <tr>\n",
              "      <th>69572</th>\n",
              "      <td>Others</td>\n",
              "      <td>1390</td>\n",
              "      <td>Others</td>\n",
              "      <td>34.938093</td>\n",
              "      <td>-9.856322</td>\n",
              "      <td>Lake Nyasa</td>\n",
              "      <td>Iringa</td>\n",
              "      <td>5</td>\n",
              "      <td>Ludewa</td>\n",
              "      <td>Mundindi</td>\n",
              "      <td>109</td>\n",
              "      <td>True</td>\n",
              "      <td>False</td>\n",
              "      <td>gravity</td>\n",
              "      <td>vwc</td>\n",
              "      <td>pay annually</td>\n",
              "      <td>soft</td>\n",
              "      <td>enough</td>\n",
              "      <td>spring</td>\n",
              "      <td>communal standpipe</td>\n",
              "      <td>0</td>\n",
              "      <td>90s</td>\n",
              "    </tr>\n",
              "    <tr>\n",
              "      <th>8776</th>\n",
              "      <td>Others</td>\n",
              "      <td>1399</td>\n",
              "      <td>Others</td>\n",
              "      <td>34.698766</td>\n",
              "      <td>-2.147466</td>\n",
              "      <td>Lake Victoria</td>\n",
              "      <td>Mara</td>\n",
              "      <td>2</td>\n",
              "      <td>Serengeti</td>\n",
              "      <td>Natta</td>\n",
              "      <td>280</td>\n",
              "      <td>True</td>\n",
              "      <td>True</td>\n",
              "      <td>gravity</td>\n",
              "      <td>wug</td>\n",
              "      <td>never pay</td>\n",
              "      <td>soft</td>\n",
              "      <td>insufficient</td>\n",
              "      <td>rainwater harvesting</td>\n",
              "      <td>communal standpipe</td>\n",
              "      <td>0</td>\n",
              "      <td>10s</td>\n",
              "    </tr>\n",
              "    <tr>\n",
              "      <th>34310</th>\n",
              "      <td>Others</td>\n",
              "      <td>686</td>\n",
              "      <td>world vision</td>\n",
              "      <td>37.460664</td>\n",
              "      <td>-3.821329</td>\n",
              "      <td>Pangani</td>\n",
              "      <td>Manyara</td>\n",
              "      <td>4</td>\n",
              "      <td>Simanjiro</td>\n",
              "      <td>Ngorika</td>\n",
              "      <td>250</td>\n",
              "      <td>True</td>\n",
              "      <td>True</td>\n",
              "      <td>gravity</td>\n",
              "      <td>vwc</td>\n",
              "      <td>pay per bucket</td>\n",
              "      <td>soft</td>\n",
              "      <td>enough</td>\n",
              "      <td>dam</td>\n",
              "      <td>communal standpipe multiple</td>\n",
              "      <td>0</td>\n",
              "      <td>00s</td>\n",
              "    </tr>\n",
              "    <tr>\n",
              "      <th>67743</th>\n",
              "      <td>Unicef</td>\n",
              "      <td>263</td>\n",
              "      <td>Others</td>\n",
              "      <td>38.486161</td>\n",
              "      <td>-11.155298</td>\n",
              "      <td>Ruvuma / Southern Coast</td>\n",
              "      <td>Mtwara</td>\n",
              "      <td>63</td>\n",
              "      <td>Nanyumbu</td>\n",
              "      <td>Nanyumbu</td>\n",
              "      <td>58</td>\n",
              "      <td>True</td>\n",
              "      <td>True</td>\n",
              "      <td>submersible</td>\n",
              "      <td>vwc</td>\n",
              "      <td>never pay</td>\n",
              "      <td>soft</td>\n",
              "      <td>dry</td>\n",
              "      <td>machine dbh</td>\n",
              "      <td>communal standpipe multiple</td>\n",
              "      <td>2</td>\n",
              "      <td>80s</td>\n",
              "    </tr>\n",
              "    <tr>\n",
              "      <th>19728</th>\n",
              "      <td>Others</td>\n",
              "      <td>0</td>\n",
              "      <td>Others</td>\n",
              "      <td>31.130847</td>\n",
              "      <td>-1.825359</td>\n",
              "      <td>Lake Victoria</td>\n",
              "      <td>Kagera</td>\n",
              "      <td>1</td>\n",
              "      <td>Karagwe</td>\n",
              "      <td>Nyakasimbi</td>\n",
              "      <td>281</td>\n",
              "      <td>True</td>\n",
              "      <td>True</td>\n",
              "      <td>gravity</td>\n",
              "      <td>other</td>\n",
              "      <td>never pay</td>\n",
              "      <td>soft</td>\n",
              "      <td>seasonal</td>\n",
              "      <td>rainwater harvesting</td>\n",
              "      <td>communal standpipe</td>\n",
              "      <td>0</td>\n",
              "      <td>0</td>\n",
              "    </tr>\n",
              "    <tr>\n",
              "      <th>...</th>\n",
              "      <td>...</td>\n",
              "      <td>...</td>\n",
              "      <td>...</td>\n",
              "      <td>...</td>\n",
              "      <td>...</td>\n",
              "      <td>...</td>\n",
              "      <td>...</td>\n",
              "      <td>...</td>\n",
              "      <td>...</td>\n",
              "      <td>...</td>\n",
              "      <td>...</td>\n",
              "      <td>...</td>\n",
              "      <td>...</td>\n",
              "      <td>...</td>\n",
              "      <td>...</td>\n",
              "      <td>...</td>\n",
              "      <td>...</td>\n",
              "      <td>...</td>\n",
              "      <td>...</td>\n",
              "      <td>...</td>\n",
              "      <td>...</td>\n",
              "      <td>...</td>\n",
              "    </tr>\n",
              "    <tr>\n",
              "      <th>60739</th>\n",
              "      <td>Germany Republi</td>\n",
              "      <td>1210</td>\n",
              "      <td>CES</td>\n",
              "      <td>37.169807</td>\n",
              "      <td>-3.253847</td>\n",
              "      <td>Pangani</td>\n",
              "      <td>Kilimanjaro</td>\n",
              "      <td>5</td>\n",
              "      <td>Hai</td>\n",
              "      <td>Masama Magharibi</td>\n",
              "      <td>125</td>\n",
              "      <td>True</td>\n",
              "      <td>True</td>\n",
              "      <td>gravity</td>\n",
              "      <td>water board</td>\n",
              "      <td>pay per bucket</td>\n",
              "      <td>soft</td>\n",
              "      <td>enough</td>\n",
              "      <td>spring</td>\n",
              "      <td>communal standpipe</td>\n",
              "      <td>0</td>\n",
              "      <td>90s</td>\n",
              "    </tr>\n",
              "    <tr>\n",
              "      <th>27263</th>\n",
              "      <td>Others</td>\n",
              "      <td>1212</td>\n",
              "      <td>Others</td>\n",
              "      <td>35.249991</td>\n",
              "      <td>-9.070629</td>\n",
              "      <td>Rufiji</td>\n",
              "      <td>Iringa</td>\n",
              "      <td>4</td>\n",
              "      <td>Njombe</td>\n",
              "      <td>Ikondo</td>\n",
              "      <td>56</td>\n",
              "      <td>True</td>\n",
              "      <td>True</td>\n",
              "      <td>gravity</td>\n",
              "      <td>vwc</td>\n",
              "      <td>pay annually</td>\n",
              "      <td>soft</td>\n",
              "      <td>enough</td>\n",
              "      <td>river</td>\n",
              "      <td>communal standpipe</td>\n",
              "      <td>0</td>\n",
              "      <td>90s</td>\n",
              "    </tr>\n",
              "    <tr>\n",
              "      <th>37057</th>\n",
              "      <td>Others</td>\n",
              "      <td>0</td>\n",
              "      <td>None</td>\n",
              "      <td>34.017087</td>\n",
              "      <td>-8.750434</td>\n",
              "      <td>Rufiji</td>\n",
              "      <td>Mbeya</td>\n",
              "      <td>7</td>\n",
              "      <td>Mbarali</td>\n",
              "      <td>Chimala</td>\n",
              "      <td>281</td>\n",
              "      <td>True</td>\n",
              "      <td>False</td>\n",
              "      <td>swn 80</td>\n",
              "      <td>vwc</td>\n",
              "      <td>pay monthly</td>\n",
              "      <td>fluoride</td>\n",
              "      <td>enough</td>\n",
              "      <td>machine dbh</td>\n",
              "      <td>hand pump</td>\n",
              "      <td>0</td>\n",
              "      <td>0</td>\n",
              "    </tr>\n",
              "    <tr>\n",
              "      <th>31282</th>\n",
              "      <td>Others</td>\n",
              "      <td>0</td>\n",
              "      <td>Others</td>\n",
              "      <td>35.861315</td>\n",
              "      <td>-6.378573</td>\n",
              "      <td>Rufiji</td>\n",
              "      <td>Dodoma</td>\n",
              "      <td>4</td>\n",
              "      <td>Chamwino</td>\n",
              "      <td>Mvumi Makulu</td>\n",
              "      <td>281</td>\n",
              "      <td>True</td>\n",
              "      <td>True</td>\n",
              "      <td>nira/tanira</td>\n",
              "      <td>vwc</td>\n",
              "      <td>never pay</td>\n",
              "      <td>soft</td>\n",
              "      <td>insufficient</td>\n",
              "      <td>shallow well</td>\n",
              "      <td>hand pump</td>\n",
              "      <td>0</td>\n",
              "      <td>0</td>\n",
              "    </tr>\n",
              "    <tr>\n",
              "      <th>26348</th>\n",
              "      <td>World Bank</td>\n",
              "      <td>191</td>\n",
              "      <td>Others</td>\n",
              "      <td>38.104048</td>\n",
              "      <td>-6.747464</td>\n",
              "      <td>Wami / Ruvu</td>\n",
              "      <td>Morogoro</td>\n",
              "      <td>2</td>\n",
              "      <td>Morogoro Rural</td>\n",
              "      <td>Ngerengere</td>\n",
              "      <td>150</td>\n",
              "      <td>True</td>\n",
              "      <td>True</td>\n",
              "      <td>nira/tanira</td>\n",
              "      <td>vwc</td>\n",
              "      <td>pay when scheme fails</td>\n",
              "      <td>salty</td>\n",
              "      <td>enough</td>\n",
              "      <td>shallow well</td>\n",
              "      <td>hand pump</td>\n",
              "      <td>0</td>\n",
              "      <td>00s</td>\n",
              "    </tr>\n",
              "  </tbody>\n",
              "</table>\n",
              "<p>59400 rows × 22 columns</p>\n",
              "</div>"
            ],
            "text/plain": [
              "                funder  gps_height  ... status_group  construction_decade\n",
              "id                                  ...                                  \n",
              "69572           Others        1390  ...            0                  90s\n",
              "8776            Others        1399  ...            0                  10s\n",
              "34310           Others         686  ...            0                  00s\n",
              "67743           Unicef         263  ...            2                  80s\n",
              "19728           Others           0  ...            0                    0\n",
              "...                ...         ...  ...          ...                  ...\n",
              "60739  Germany Republi        1210  ...            0                  90s\n",
              "27263           Others        1212  ...            0                  90s\n",
              "37057           Others           0  ...            0                    0\n",
              "31282           Others           0  ...            0                    0\n",
              "26348       World Bank         191  ...            0                  00s\n",
              "\n",
              "[59400 rows x 22 columns]"
            ]
          },
          "metadata": {},
          "execution_count": 361
        }
      ]
    },
    {
      "cell_type": "markdown",
      "metadata": {
        "id": "scLKElaLtjUU"
      },
      "source": [
        "#### PCA"
      ]
    },
    {
      "cell_type": "code",
      "metadata": {
        "id": "YDGaZBsHsZti"
      },
      "source": [
        "def apply_pca(X, standardize=True):\n",
        "    # Standardize\n",
        "    if standardize:\n",
        "        X = (X - X.mean(axis=0)) / X.std(axis=0)\n",
        "    # Create principal components\n",
        "    pca = PCA()\n",
        "    X_pca = pca.fit_transform(X)\n",
        "    # Convert to dataframe\n",
        "    component_names = [f\"PC{i+1}\" for i in range(X_pca.shape[1])]\n",
        "    X_pca = pd.DataFrame(X_pca, columns=component_names)\n",
        "    # Create loadings\n",
        "    loadings = pd.DataFrame(\n",
        "        pca.components_.T,  # transpose the matrix of loadings\n",
        "        columns=component_names,  # so the columns are the principal components\n",
        "        index=X.columns,  # and the rows are the original features\n",
        "    )\n",
        "    return pca, X_pca, loadings\n",
        "\n",
        "\n",
        "def plot_variance(pca, width=8, dpi=100):\n",
        "    # Create figure\n",
        "    fig, axs = plt.subplots(1, 2)\n",
        "    n = pca.n_components_\n",
        "    grid = np.arange(1, n + 1)\n",
        "    # Explained variance\n",
        "    evr = pca.explained_variance_ratio_\n",
        "    axs[0].bar(grid, evr)\n",
        "    axs[0].set(\n",
        "        xlabel=\"Component\", title=\"% Explained Variance\", ylim=(0.0, 1.0)\n",
        "    )\n",
        "    # Cumulative Variance\n",
        "    cv = np.cumsum(evr)\n",
        "    axs[1].plot(np.r_[0, grid], np.r_[0, cv], \"o-\")\n",
        "    axs[1].set(\n",
        "        xlabel=\"Component\", title=\"% Cumulative Variance\", ylim=(0.0, 1.0)\n",
        "    )\n",
        "    # Set up figure\n",
        "    fig.set(figwidth=8, dpi=100)\n",
        "    return axs"
      ],
      "execution_count": 362,
      "outputs": []
    },
    {
      "cell_type": "code",
      "metadata": {
        "colab": {
          "base_uri": "https://localhost:8080/",
          "height": 457
        },
        "id": "q-6EfrvZ19Cr",
        "outputId": "defdb1e7-c9ac-42dc-e4cd-17a085e25a0f"
      },
      "source": [
        "features_for_PCA = [\n",
        "        \"gps_height\",\n",
        "        \"population\"\n",
        "    ]\n",
        "all_data = pd.concat([train_data_dummy, test_data_dummy])\n",
        "\n",
        "pca, all_data_pca, loadings= apply_pca(all_data[features_for_PCA])\n",
        "print(loadings)\n",
        "# Look at explained variance\n",
        "plot_variance(pca);\n",
        "\n",
        "train_pca = all_data_pca.loc[train_data.index, :]\n",
        "\n",
        "train_data = all_data.loc[train_data.index, :]\n",
        "train_data.status_group= train_data.status_group.astype(\"int64\")\n",
        "test_data = all_data.loc[test_data.index, :]"
      ],
      "execution_count": 363,
      "outputs": [
        {
          "output_type": "stream",
          "name": "stdout",
          "text": [
            "                 PC1       PC2\n",
            "gps_height -0.707107  0.707107\n",
            "population  0.707107  0.707107\n"
          ]
        },
        {
          "output_type": "display_data",
          "data": {
            "image/png": "[encoded data removed]",
            "text/plain": [
              "<Figure size 800x400 with 2 Axes>"
            ]
          },
          "metadata": {
            "needs_background": "light"
          }
        }
      ]
    },
    {
      "cell_type": "code",
      "metadata": {
        "colab": {
          "base_uri": "https://localhost:8080/"
        },
        "id": "cagSMRZD2pr9",
        "outputId": "d6a849d7-f4cf-495c-859f-a4cf6c64c97f"
      },
      "source": [
        "make_mi_scores(train_pca,train_data['status_group'],True)"
      ],
      "execution_count": 364,
      "outputs": [
        {
          "output_type": "execute_result",
          "data": {
            "text/plain": [
              "PC2    0.003502\n",
              "PC1    0.001901\n",
              "Name: MI Scores, dtype: float64"
            ]
          },
          "metadata": {},
          "execution_count": 364
        }
      ]
    },
    {
      "cell_type": "markdown",
      "metadata": {
        "id": "9KfuIxiJQGzp"
      },
      "source": [
        "According to the above output, we can consider `gps_height` and `population` features has significant relation ship between them. And also according to the mu_scores, features' PCA component shows considerable relation with the `status_group` . So, we use these PCA component as features in the dataset. "
      ]
    },
    {
      "cell_type": "code",
      "metadata": {
        "id": "Mn-TxfZ224Ut"
      },
      "source": [
        "def add_pca_component_to_dataset(X, X_pca):\n",
        "    X_with_pca_features = X.copy()\n",
        "    X_with_pca_features = X_with_pca_features.join(X_pca)\n",
        "    return X_with_pca_features"
      ],
      "execution_count": 365,
      "outputs": []
    },
    {
      "cell_type": "code",
      "metadata": {
        "id": "SWDidGg9RNpw"
      },
      "source": [
        "train_data_with_pca = add_pca_component_to_dataset(train_data, train_pca)"
      ],
      "execution_count": 366,
      "outputs": []
    },
    {
      "cell_type": "code",
      "metadata": {
        "id": "sVjb3F2_Wdgs"
      },
      "source": [
        "test_data_with_pca = add_pca_component_to_dataset(test_data,all_data_pca.loc[test_data.index, :])"
      ],
      "execution_count": 367,
      "outputs": []
    },
    {
      "cell_type": "code",
      "metadata": {
        "colab": {
          "base_uri": "https://localhost:8080/",
          "height": 698
        },
        "id": "6dHPwnrIXwtf",
        "outputId": "6ef3f33a-4dd0-4d8e-8d3c-df75fed3fd2a"
      },
      "source": [
        "train_data_with_pca"
      ],
      "execution_count": 368,
      "outputs": [
        {
          "output_type": "execute_result",
          "data": {
            "text/html": [
              "<div>\n",
              "<style scoped>\n",
              "    .dataframe tbody tr th:only-of-type {\n",
              "        vertical-align: middle;\n",
              "    }\n",
              "\n",
              "    .dataframe tbody tr th {\n",
              "        vertical-align: top;\n",
              "    }\n",
              "\n",
              "    .dataframe thead th {\n",
              "        text-align: right;\n",
              "    }\n",
              "</style>\n",
              "<table border=\"1\" class=\"dataframe\">\n",
              "  <thead>\n",
              "    <tr style=\"text-align: right;\">\n",
              "      <th></th>\n",
              "      <th>funder</th>\n",
              "      <th>gps_height</th>\n",
              "      <th>installer</th>\n",
              "      <th>longitude</th>\n",
              "      <th>latitude</th>\n",
              "      <th>basin</th>\n",
              "      <th>region</th>\n",
              "      <th>district_code</th>\n",
              "      <th>lga</th>\n",
              "      <th>ward</th>\n",
              "      <th>population</th>\n",
              "      <th>public_meeting</th>\n",
              "      <th>permit</th>\n",
              "      <th>extraction_type_group</th>\n",
              "      <th>management</th>\n",
              "      <th>payment</th>\n",
              "      <th>water_quality</th>\n",
              "      <th>quantity</th>\n",
              "      <th>source</th>\n",
              "      <th>waterpoint_type</th>\n",
              "      <th>status_group</th>\n",
              "      <th>construction_decade</th>\n",
              "      <th>PC1</th>\n",
              "      <th>PC2</th>\n",
              "    </tr>\n",
              "    <tr>\n",
              "      <th>id</th>\n",
              "      <th></th>\n",
              "      <th></th>\n",
              "      <th></th>\n",
              "      <th></th>\n",
              "      <th></th>\n",
              "      <th></th>\n",
              "      <th></th>\n",
              "      <th></th>\n",
              "      <th></th>\n",
              "      <th></th>\n",
              "      <th></th>\n",
              "      <th></th>\n",
              "      <th></th>\n",
              "      <th></th>\n",
              "      <th></th>\n",
              "      <th></th>\n",
              "      <th></th>\n",
              "      <th></th>\n",
              "      <th></th>\n",
              "      <th></th>\n",
              "      <th></th>\n",
              "      <th></th>\n",
              "      <th></th>\n",
              "      <th></th>\n",
              "    </tr>\n",
              "  </thead>\n",
              "  <tbody>\n",
              "    <tr>\n",
              "      <th>69572</th>\n",
              "      <td>Others</td>\n",
              "      <td>1390</td>\n",
              "      <td>Others</td>\n",
              "      <td>34.938093</td>\n",
              "      <td>-9.856322</td>\n",
              "      <td>Lake Nyasa</td>\n",
              "      <td>Iringa</td>\n",
              "      <td>5</td>\n",
              "      <td>Ludewa</td>\n",
              "      <td>Mundindi</td>\n",
              "      <td>109</td>\n",
              "      <td>True</td>\n",
              "      <td>False</td>\n",
              "      <td>gravity</td>\n",
              "      <td>vwc</td>\n",
              "      <td>pay annually</td>\n",
              "      <td>soft</td>\n",
              "      <td>enough</td>\n",
              "      <td>spring</td>\n",
              "      <td>communal standpipe</td>\n",
              "      <td>0</td>\n",
              "      <td>90s</td>\n",
              "      <td>2.702385</td>\n",
              "      <td>1.429220</td>\n",
              "    </tr>\n",
              "    <tr>\n",
              "      <th>8776</th>\n",
              "      <td>Others</td>\n",
              "      <td>1399</td>\n",
              "      <td>Others</td>\n",
              "      <td>34.698766</td>\n",
              "      <td>-2.147466</td>\n",
              "      <td>Lake Victoria</td>\n",
              "      <td>Mara</td>\n",
              "      <td>2</td>\n",
              "      <td>Serengeti</td>\n",
              "      <td>Natta</td>\n",
              "      <td>280</td>\n",
              "      <td>True</td>\n",
              "      <td>True</td>\n",
              "      <td>gravity</td>\n",
              "      <td>wug</td>\n",
              "      <td>never pay</td>\n",
              "      <td>soft</td>\n",
              "      <td>insufficient</td>\n",
              "      <td>rainwater harvesting</td>\n",
              "      <td>communal standpipe</td>\n",
              "      <td>0</td>\n",
              "      <td>10s</td>\n",
              "      <td>0.677407</td>\n",
              "      <td>-0.681497</td>\n",
              "    </tr>\n",
              "    <tr>\n",
              "      <th>34310</th>\n",
              "      <td>Others</td>\n",
              "      <td>686</td>\n",
              "      <td>world vision</td>\n",
              "      <td>37.460664</td>\n",
              "      <td>-3.821329</td>\n",
              "      <td>Pangani</td>\n",
              "      <td>Manyara</td>\n",
              "      <td>4</td>\n",
              "      <td>Simanjiro</td>\n",
              "      <td>Ngorika</td>\n",
              "      <td>250</td>\n",
              "      <td>True</td>\n",
              "      <td>True</td>\n",
              "      <td>gravity</td>\n",
              "      <td>vwc</td>\n",
              "      <td>pay per bucket</td>\n",
              "      <td>soft</td>\n",
              "      <td>enough</td>\n",
              "      <td>dam</td>\n",
              "      <td>communal standpipe multiple</td>\n",
              "      <td>0</td>\n",
              "      <td>00s</td>\n",
              "      <td>0.677407</td>\n",
              "      <td>-0.681497</td>\n",
              "    </tr>\n",
              "    <tr>\n",
              "      <th>67743</th>\n",
              "      <td>Unicef</td>\n",
              "      <td>263</td>\n",
              "      <td>Others</td>\n",
              "      <td>38.486161</td>\n",
              "      <td>-11.155298</td>\n",
              "      <td>Ruvuma / Southern Coast</td>\n",
              "      <td>Mtwara</td>\n",
              "      <td>63</td>\n",
              "      <td>Nanyumbu</td>\n",
              "      <td>Nanyumbu</td>\n",
              "      <td>58</td>\n",
              "      <td>True</td>\n",
              "      <td>True</td>\n",
              "      <td>submersible</td>\n",
              "      <td>vwc</td>\n",
              "      <td>never pay</td>\n",
              "      <td>soft</td>\n",
              "      <td>dry</td>\n",
              "      <td>machine dbh</td>\n",
              "      <td>communal standpipe multiple</td>\n",
              "      <td>2</td>\n",
              "      <td>80s</td>\n",
              "      <td>1.816860</td>\n",
              "      <td>0.433459</td>\n",
              "    </tr>\n",
              "    <tr>\n",
              "      <th>19728</th>\n",
              "      <td>Others</td>\n",
              "      <td>0</td>\n",
              "      <td>Others</td>\n",
              "      <td>31.130847</td>\n",
              "      <td>-1.825359</td>\n",
              "      <td>Lake Victoria</td>\n",
              "      <td>Kagera</td>\n",
              "      <td>1</td>\n",
              "      <td>Karagwe</td>\n",
              "      <td>Nyakasimbi</td>\n",
              "      <td>281</td>\n",
              "      <td>True</td>\n",
              "      <td>True</td>\n",
              "      <td>gravity</td>\n",
              "      <td>other</td>\n",
              "      <td>never pay</td>\n",
              "      <td>soft</td>\n",
              "      <td>seasonal</td>\n",
              "      <td>rainwater harvesting</td>\n",
              "      <td>communal standpipe</td>\n",
              "      <td>0</td>\n",
              "      <td>0</td>\n",
              "      <td>0.677407</td>\n",
              "      <td>-0.681497</td>\n",
              "    </tr>\n",
              "    <tr>\n",
              "      <th>...</th>\n",
              "      <td>...</td>\n",
              "      <td>...</td>\n",
              "      <td>...</td>\n",
              "      <td>...</td>\n",
              "      <td>...</td>\n",
              "      <td>...</td>\n",
              "      <td>...</td>\n",
              "      <td>...</td>\n",
              "      <td>...</td>\n",
              "      <td>...</td>\n",
              "      <td>...</td>\n",
              "      <td>...</td>\n",
              "      <td>...</td>\n",
              "      <td>...</td>\n",
              "      <td>...</td>\n",
              "      <td>...</td>\n",
              "      <td>...</td>\n",
              "      <td>...</td>\n",
              "      <td>...</td>\n",
              "      <td>...</td>\n",
              "      <td>...</td>\n",
              "      <td>...</td>\n",
              "      <td>...</td>\n",
              "      <td>...</td>\n",
              "    </tr>\n",
              "    <tr>\n",
              "      <th>60739</th>\n",
              "      <td>Germany Republi</td>\n",
              "      <td>1210</td>\n",
              "      <td>CES</td>\n",
              "      <td>37.169807</td>\n",
              "      <td>-3.253847</td>\n",
              "      <td>Pangani</td>\n",
              "      <td>Kilimanjaro</td>\n",
              "      <td>5</td>\n",
              "      <td>Hai</td>\n",
              "      <td>Masama Magharibi</td>\n",
              "      <td>125</td>\n",
              "      <td>True</td>\n",
              "      <td>True</td>\n",
              "      <td>gravity</td>\n",
              "      <td>water board</td>\n",
              "      <td>pay per bucket</td>\n",
              "      <td>soft</td>\n",
              "      <td>enough</td>\n",
              "      <td>spring</td>\n",
              "      <td>communal standpipe</td>\n",
              "      <td>0</td>\n",
              "      <td>90s</td>\n",
              "      <td>0.677407</td>\n",
              "      <td>-0.681497</td>\n",
              "    </tr>\n",
              "    <tr>\n",
              "      <th>27263</th>\n",
              "      <td>Others</td>\n",
              "      <td>1212</td>\n",
              "      <td>Others</td>\n",
              "      <td>35.249991</td>\n",
              "      <td>-9.070629</td>\n",
              "      <td>Rufiji</td>\n",
              "      <td>Iringa</td>\n",
              "      <td>4</td>\n",
              "      <td>Njombe</td>\n",
              "      <td>Ikondo</td>\n",
              "      <td>56</td>\n",
              "      <td>True</td>\n",
              "      <td>True</td>\n",
              "      <td>gravity</td>\n",
              "      <td>vwc</td>\n",
              "      <td>pay annually</td>\n",
              "      <td>soft</td>\n",
              "      <td>enough</td>\n",
              "      <td>river</td>\n",
              "      <td>communal standpipe</td>\n",
              "      <td>0</td>\n",
              "      <td>90s</td>\n",
              "      <td>-0.327877</td>\n",
              "      <td>0.377090</td>\n",
              "    </tr>\n",
              "    <tr>\n",
              "      <th>37057</th>\n",
              "      <td>Others</td>\n",
              "      <td>0</td>\n",
              "      <td>None</td>\n",
              "      <td>34.017087</td>\n",
              "      <td>-8.750434</td>\n",
              "      <td>Rufiji</td>\n",
              "      <td>Mbeya</td>\n",
              "      <td>7</td>\n",
              "      <td>Mbarali</td>\n",
              "      <td>Chimala</td>\n",
              "      <td>281</td>\n",
              "      <td>True</td>\n",
              "      <td>False</td>\n",
              "      <td>swn 80</td>\n",
              "      <td>vwc</td>\n",
              "      <td>pay monthly</td>\n",
              "      <td>fluoride</td>\n",
              "      <td>enough</td>\n",
              "      <td>machine dbh</td>\n",
              "      <td>hand pump</td>\n",
              "      <td>0</td>\n",
              "      <td>0</td>\n",
              "      <td>-0.925396</td>\n",
              "      <td>0.416494</td>\n",
              "    </tr>\n",
              "    <tr>\n",
              "      <th>31282</th>\n",
              "      <td>Others</td>\n",
              "      <td>0</td>\n",
              "      <td>Others</td>\n",
              "      <td>35.861315</td>\n",
              "      <td>-6.378573</td>\n",
              "      <td>Rufiji</td>\n",
              "      <td>Dodoma</td>\n",
              "      <td>4</td>\n",
              "      <td>Chamwino</td>\n",
              "      <td>Mvumi Makulu</td>\n",
              "      <td>281</td>\n",
              "      <td>True</td>\n",
              "      <td>True</td>\n",
              "      <td>nira/tanira</td>\n",
              "      <td>vwc</td>\n",
              "      <td>never pay</td>\n",
              "      <td>soft</td>\n",
              "      <td>insufficient</td>\n",
              "      <td>shallow well</td>\n",
              "      <td>hand pump</td>\n",
              "      <td>0</td>\n",
              "      <td>0</td>\n",
              "      <td>0.060657</td>\n",
              "      <td>-0.914461</td>\n",
              "    </tr>\n",
              "    <tr>\n",
              "      <th>26348</th>\n",
              "      <td>World Bank</td>\n",
              "      <td>191</td>\n",
              "      <td>Others</td>\n",
              "      <td>38.104048</td>\n",
              "      <td>-6.747464</td>\n",
              "      <td>Wami / Ruvu</td>\n",
              "      <td>Morogoro</td>\n",
              "      <td>2</td>\n",
              "      <td>Morogoro Rural</td>\n",
              "      <td>Ngerengere</td>\n",
              "      <td>150</td>\n",
              "      <td>True</td>\n",
              "      <td>True</td>\n",
              "      <td>nira/tanira</td>\n",
              "      <td>vwc</td>\n",
              "      <td>pay when scheme fails</td>\n",
              "      <td>salty</td>\n",
              "      <td>enough</td>\n",
              "      <td>shallow well</td>\n",
              "      <td>hand pump</td>\n",
              "      <td>0</td>\n",
              "      <td>00s</td>\n",
              "      <td>-1.168813</td>\n",
              "      <td>0.967188</td>\n",
              "    </tr>\n",
              "  </tbody>\n",
              "</table>\n",
              "<p>59400 rows × 24 columns</p>\n",
              "</div>"
            ],
            "text/plain": [
              "                funder  gps_height  ...       PC1       PC2\n",
              "id                                  ...                    \n",
              "69572           Others        1390  ...  2.702385  1.429220\n",
              "8776            Others        1399  ...  0.677407 -0.681497\n",
              "34310           Others         686  ...  0.677407 -0.681497\n",
              "67743           Unicef         263  ...  1.816860  0.433459\n",
              "19728           Others           0  ...  0.677407 -0.681497\n",
              "...                ...         ...  ...       ...       ...\n",
              "60739  Germany Republi        1210  ...  0.677407 -0.681497\n",
              "27263           Others        1212  ... -0.327877  0.377090\n",
              "37057           Others           0  ... -0.925396  0.416494\n",
              "31282           Others           0  ...  0.060657 -0.914461\n",
              "26348       World Bank         191  ... -1.168813  0.967188\n",
              "\n",
              "[59400 rows x 24 columns]"
            ]
          },
          "metadata": {},
          "execution_count": 368
        }
      ]
    },
    {
      "cell_type": "code",
      "metadata": {
        "colab": {
          "base_uri": "https://localhost:8080/"
        },
        "id": "GqEwUHWRWsk0",
        "outputId": "8e69b252-508b-4afd-870d-6e2cd18e170d"
      },
      "source": [
        "X = train_data_with_pca.copy()\n",
        "y = train_data_with_pca[[\"status_group\"]].copy()\n",
        "X.pop('status_group')\n",
        "score_dataset(X.copy(), y.copy())"
      ],
      "execution_count": 369,
      "outputs": [
        {
          "output_type": "stream",
          "name": "stderr",
          "text": [
            "/usr/local/lib/python3.7/dist-packages/ipykernel_launcher.py:20: DataConversionWarning: A column-vector y was passed when a 1d array was expected. Please change the shape of y to (n_samples,), for example using ravel().\n",
            "[Parallel(n_jobs=-1)]: Using backend ThreadingBackend with 2 concurrent workers.\n"
          ]
        },
        {
          "output_type": "stream",
          "name": "stdout",
          "text": [
            "building tree 1 of 100\n",
            "building tree 2 of 100\n",
            "building tree 3 of 100\n",
            "building tree 4 of 100\n",
            "building tree 5 of 100\n",
            "building tree 6 of 100\n",
            "building tree 7 of 100\n",
            "building tree 8 of 100\n",
            "building tree 9 of 100\n",
            "building tree 10 of 100\n",
            "building tree 11 of 100\n",
            "building tree 12 of 100\n",
            "building tree 13 of 100\n",
            "building tree 14 of 100\n",
            "building tree 15 of 100\n",
            "building tree 16 of 100\n",
            "building tree 17 of 100\n",
            "building tree 18 of 100\n",
            "building tree 19 of 100\n",
            "building tree 20 of 100\n",
            "building tree 21 of 100\n",
            "building tree 22 of 100\n",
            "building tree 23 of 100\n",
            "building tree 24 of 100\n",
            "building tree 25 of 100\n",
            "building tree 26 of 100\n",
            "building tree 27 of 100\n",
            "building tree 28 of 100\n",
            "building tree 29 of 100\n",
            "building tree 30 of 100\n",
            "building tree 31 of 100\n",
            "building tree 32 of 100\n",
            "building tree 33 of 100\n",
            "building tree 34 of 100\n",
            "building tree 35 of 100\n",
            "building tree 36 of 100\n",
            "building tree 37 of 100\n",
            "building tree 38 of 100\n"
          ]
        },
        {
          "output_type": "stream",
          "name": "stderr",
          "text": [
            "[Parallel(n_jobs=-1)]: Done  37 tasks      | elapsed:   22.9s\n"
          ]
        },
        {
          "output_type": "stream",
          "name": "stdout",
          "text": [
            "building tree 39 of 100\n",
            "building tree 40 of 100\n",
            "building tree 41 of 100\n",
            "building tree 42 of 100\n",
            "building tree 43 of 100\n",
            "building tree 44 of 100\n",
            "building tree 45 of 100\n",
            "building tree 46 of 100\n",
            "building tree 47 of 100\n",
            "building tree 48 of 100\n",
            "building tree 49 of 100\n",
            "building tree 50 of 100\n",
            "building tree 51 of 100\n",
            "building tree 52 of 100\n",
            "building tree 53 of 100\n",
            "building tree 54 of 100\n",
            "building tree 55 of 100\n",
            "building tree 56 of 100\n",
            "building tree 57 of 100\n",
            "building tree 58 of 100\n",
            "building tree 59 of 100\n",
            "building tree 60 of 100\n",
            "building tree 61 of 100\n",
            "building tree 62 of 100\n",
            "building tree 63 of 100\n",
            "building tree 64 of 100\n",
            "building tree 65 of 100\n",
            "building tree 66 of 100\n",
            "building tree 67 of 100\n",
            "building tree 68 of 100\n",
            "building tree 69 of 100\n",
            "building tree 70 of 100\n",
            "building tree 71 of 100\n",
            "building tree 72 of 100\n",
            "building tree 73 of 100\n",
            "building tree 74 of 100\n",
            "building tree 75 of 100\n",
            "building tree 76 of 100\n",
            "building tree 77 of 100\n",
            "building tree 78 of 100\n",
            "building tree 79 of 100\n",
            "building tree 80 of 100\n",
            "building tree 81 of 100\n",
            "building tree 82 of 100\n",
            "building tree 83 of 100\n",
            "building tree 84 of 100\n",
            "building tree 85 of 100\n",
            "building tree 86 of 100\n",
            "building tree 87 of 100\n",
            "building tree 88 of 100\n",
            "building tree 89 of 100\n",
            "building tree 90 of 100\n",
            "building tree 91 of 100\n",
            "building tree 92 of 100\n",
            "building tree 93 of 100\n",
            "building tree 94 of 100\n",
            "building tree 95 of 100\n",
            "building tree 96 of 100\n",
            "building tree 97 of 100\n",
            "building tree 98 of 100\n",
            "building tree 99 of 100\n",
            "building tree 100 of 100\n"
          ]
        },
        {
          "output_type": "stream",
          "name": "stderr",
          "text": [
            "[Parallel(n_jobs=-1)]: Done 100 out of 100 | elapsed:   55.0s finished\n",
            "[Parallel(n_jobs=2)]: Using backend ThreadingBackend with 2 concurrent workers.\n",
            "[Parallel(n_jobs=2)]: Done  37 tasks      | elapsed:    0.9s\n",
            "[Parallel(n_jobs=2)]: Done 100 out of 100 | elapsed:    2.2s finished\n",
            "[Parallel(n_jobs=2)]: Using backend ThreadingBackend with 2 concurrent workers.\n",
            "[Parallel(n_jobs=2)]: Done  37 tasks      | elapsed:    0.3s\n"
          ]
        },
        {
          "output_type": "stream",
          "name": "stdout",
          "text": [
            "Accuracy:\n",
            "=========\n",
            "TRAIN: 0.9074074074074074\n",
            "TEST: 0.7883838383838384\n",
            "\n",
            "Balanced Accuracy:\n",
            "==================\n",
            "TRAIN: 0.9223460827019929\n",
            "TEST: 0.7190276297604014\n"
          ]
        },
        {
          "output_type": "stream",
          "name": "stderr",
          "text": [
            "[Parallel(n_jobs=2)]: Done 100 out of 100 | elapsed:    0.7s finished\n"
          ]
        },
        {
          "output_type": "execute_result",
          "data": {
            "text/plain": [
              "RandomForestClassifier(bootstrap=True, ccp_alpha=0.0, class_weight='balanced',\n",
              "                       criterion='gini', max_depth=None, max_features='auto',\n",
              "                       max_leaf_nodes=None, max_samples=None,\n",
              "                       min_impurity_decrease=0.0, min_impurity_split=None,\n",
              "                       min_samples_leaf=1, min_samples_split=10,\n",
              "                       min_weight_fraction_leaf=0.0, n_estimators=100,\n",
              "                       n_jobs=-1, oob_score=True, random_state=1, verbose=2,\n",
              "                       warm_start=False)"
            ]
          },
          "metadata": {},
          "execution_count": 369
        }
      ]
    },
    {
      "cell_type": "code",
      "metadata": {
        "id": "uhkBM8NsWvVL"
      },
      "source": [
        ""
      ],
      "execution_count": 369,
      "outputs": []
    },
    {
      "cell_type": "markdown",
      "metadata": {
        "id": "wjKqCK6aZy6m"
      },
      "source": [
        "#### Target encode"
      ]
    },
    {
      "cell_type": "code",
      "metadata": {
        "id": "73dmhLpdZ4OY"
      },
      "source": [
        "# Encoding split\n",
        "def ward_encode(X,y):\n",
        "  X_for_encoding = X.copy()\n",
        "  X_for_encoding['status_group']= X[[\"status_group\"]].copy()\n",
        "  X_for_encoding['ward']= d_train[[\"ward\"]].copy()\n",
        "  X_encode = X_for_encoding.sample(frac=0.9, random_state=0)\n",
        "  y_encode = X_encode.pop(\"status_group\")\n",
        "\n",
        "  # Training split\n",
        "  X_pretrain = X_for_encoding.drop(X_encode.index)\n",
        "  y_train = X_pretrain.pop(\"status_group\")\n",
        "\n",
        "  # Choose a set of features to encode and a value for m\n",
        "  encoder = MEstimateEncoder(cols=[\"ward\"], m=5)\n",
        "\n",
        "\n",
        "  # Fit the encoder on the encoding split\n",
        "  encoder.fit(X_encode, y_encode)\n",
        "  return encoder"
      ],
      "execution_count": 370,
      "outputs": []
    },
    {
      "cell_type": "code",
      "metadata": {
        "id": "jGjmseVwb7AO"
      },
      "source": [
        "# Encode the training split\n",
        "# X_train = encoder.transform(X_pretrain, y_train).copy()"
      ],
      "execution_count": 371,
      "outputs": []
    },
    {
      "cell_type": "code",
      "metadata": {
        "id": "jFS3ZnxLeP9o"
      },
      "source": [
        "class CrossFoldEncoder:\n",
        "    def __init__(self, encoder, **kwargs):\n",
        "        self.encoder_ = encoder\n",
        "        self.kwargs_ = kwargs  # keyword arguments for the encoder\n",
        "        self.cv_ = KFold(n_splits=5)\n",
        "\n",
        "    # Fit an encoder on one split and transform the feature on the\n",
        "    # other. Iterating over the splits in all folds gives a complete\n",
        "    # transformation. We also now have one trained encoder on each\n",
        "    # fold.\n",
        "    def fit_transform(self, X, y, cols):\n",
        "        self.fitted_encoders_ = []\n",
        "        self.cols_ = cols\n",
        "        X_encoded = []\n",
        "        for idx_encode, idx_train in self.cv_.split(X):\n",
        "            fitted_encoder = self.encoder_(cols=cols, **self.kwargs_)\n",
        "            fitted_encoder.fit(\n",
        "                X.iloc[idx_encode, :], y.iloc[idx_encode],\n",
        "            )\n",
        "            X_encoded.append(fitted_encoder.transform(X.iloc[idx_train, :])[cols])\n",
        "            self.fitted_encoders_.append(fitted_encoder)\n",
        "        X_encoded = pd.concat(X_encoded)\n",
        "        X_encoded.columns = [name + \"_encoded\" for name in X_encoded.columns]\n",
        "        return X_encoded\n",
        "\n",
        "    # To transform the test data, average the encodings learned from\n",
        "    # each fold.\n",
        "    def transform(self, X):\n",
        "        from functools import reduce\n",
        "\n",
        "        X_encoded_list = []\n",
        "        for fitted_encoder in self.fitted_encoders_:\n",
        "            X_encoded = fitted_encoder.transform(X)\n",
        "            X_encoded_list.append(X_encoded[self.cols_])\n",
        "        X_encoded = reduce(\n",
        "            lambda x, y: x.add(y, fill_value=0), X_encoded_list\n",
        "        ) / len(X_encoded_list)\n",
        "        X_encoded.columns = [name + \"_encoded\" for name in X_encoded.columns]\n",
        "        return X_encoded"
      ],
      "execution_count": 372,
      "outputs": []
    },
    {
      "cell_type": "code",
      "metadata": {
        "colab": {
          "base_uri": "https://localhost:8080/"
        },
        "id": "21iCLd2XeT5H",
        "outputId": "1bf862b9-becb-47cf-b6f0-dc5630829c0e"
      },
      "source": [
        "encoder = CrossFoldEncoder(MEstimateEncoder, m=1)\n",
        "X_ward_encoded_train = encoder.fit_transform(train_data_with_pca, train_data_with_pca.status_group, cols=[\"ward\"])"
      ],
      "execution_count": 373,
      "outputs": [
        {
          "output_type": "stream",
          "name": "stderr",
          "text": [
            "/usr/local/lib/python3.7/dist-packages/category_encoders/utils.py:21: FutureWarning: is_categorical is deprecated and will be removed in a future version.  Use is_categorical_dtype instead\n",
            "  elif pd.api.types.is_categorical(cols):\n"
          ]
        }
      ]
    },
    {
      "cell_type": "code",
      "metadata": {
        "id": "zB2BbKLKeeVP"
      },
      "source": [
        "X_ward_encoded_test = encoder.transform(test_data_with_pca)"
      ],
      "execution_count": 374,
      "outputs": []
    },
    {
      "cell_type": "code",
      "metadata": {
        "id": "-nbMZPG8fedO"
      },
      "source": [
        "train_with_encoded = train_data_with_pca.copy()\n",
        "train_with_encoded[\"ward\"] = X_ward_encoded_train[\"ward_encoded\"]\n",
        "test_with_encoded = test_data_with_pca.copy()\n",
        "test_with_encoded[\"ward\"] = X_ward_encoded_test[\"ward_encoded\"]"
      ],
      "execution_count": 375,
      "outputs": []
    },
    {
      "cell_type": "code",
      "metadata": {
        "colab": {
          "base_uri": "https://localhost:8080/"
        },
        "id": "14uXFQ59hqCV",
        "outputId": "76dedc07-00cb-4799-c098-a67671a132e2"
      },
      "source": [
        "X = train_with_encoded.copy()\n",
        "y = train_with_encoded[[\"status_group\"]].copy()\n",
        "X.pop('status_group')\n",
        "score_dataset(X.copy(), y.copy())"
      ],
      "execution_count": 376,
      "outputs": [
        {
          "output_type": "stream",
          "name": "stderr",
          "text": [
            "/usr/local/lib/python3.7/dist-packages/ipykernel_launcher.py:20: DataConversionWarning: A column-vector y was passed when a 1d array was expected. Please change the shape of y to (n_samples,), for example using ravel().\n",
            "[Parallel(n_jobs=-1)]: Using backend ThreadingBackend with 2 concurrent workers.\n"
          ]
        },
        {
          "output_type": "stream",
          "name": "stdout",
          "text": [
            "building tree 1 of 100\n",
            "building tree 2 of 100\n",
            "building tree 3 of 100\n",
            "building tree 4 of 100\n",
            "building tree 5 of 100\n",
            "building tree 6 of 100\n",
            "building tree 7 of 100\n",
            "building tree 8 of 100\n",
            "building tree 9 of 100\n",
            "building tree 10 of 100\n",
            "building tree 11 of 100\n",
            "building tree 12 of 100\n",
            "building tree 13 of 100\n",
            "building tree 14 of 100\n",
            "building tree 15 of 100\n",
            "building tree 16 of 100\n",
            "building tree 17 of 100\n",
            "building tree 18 of 100\n",
            "building tree 19 of 100\n",
            "building tree 20 of 100\n",
            "building tree 21 of 100\n",
            "building tree 22 of 100\n",
            "building tree 23 of 100\n",
            "building tree 24 of 100\n",
            "building tree 25 of 100\n",
            "building tree 26 of 100\n",
            "building tree 27 of 100\n",
            "building tree 28 of 100\n",
            "building tree 29 of 100\n",
            "building tree 30 of 100\n",
            "building tree 31 of 100\n",
            "building tree 32 of 100\n",
            "building tree 33 of 100\n",
            "building tree 34 of 100\n",
            "building tree 35 of 100\n",
            "building tree 36 of 100\n",
            "building tree 37 of 100\n",
            "building tree 38 of 100\n"
          ]
        },
        {
          "output_type": "stream",
          "name": "stderr",
          "text": [
            "[Parallel(n_jobs=-1)]: Done  37 tasks      | elapsed:    5.6s\n"
          ]
        },
        {
          "output_type": "stream",
          "name": "stdout",
          "text": [
            "building tree 39 of 100\n",
            "building tree 40 of 100\n",
            "building tree 41 of 100\n",
            "building tree 42 of 100\n",
            "building tree 43 of 100\n",
            "building tree 44 of 100\n",
            "building tree 45 of 100\n",
            "building tree 46 of 100\n",
            "building tree 47 of 100\n",
            "building tree 48 of 100\n",
            "building tree 49 of 100\n",
            "building tree 50 of 100\n",
            "building tree 51 of 100\n",
            "building tree 52 of 100\n",
            "building tree 53 of 100\n",
            "building tree 54 of 100\n",
            "building tree 55 of 100\n",
            "building tree 56 of 100\n",
            "building tree 57 of 100\n",
            "building tree 58 of 100\n",
            "building tree 59 of 100\n",
            "building tree 60 of 100\n",
            "building tree 61 of 100\n",
            "building tree 62 of 100\n",
            "building tree 63 of 100\n",
            "building tree 64 of 100\n",
            "building tree 65 of 100\n",
            "building tree 66 of 100\n",
            "building tree 67 of 100\n",
            "building tree 68 of 100\n",
            "building tree 69 of 100\n",
            "building tree 70 of 100\n",
            "building tree 71 of 100\n",
            "building tree 72 of 100\n",
            "building tree 73 of 100\n",
            "building tree 74 of 100\n",
            "building tree 75 of 100\n",
            "building tree 76 of 100\n",
            "building tree 77 of 100\n",
            "building tree 78 of 100\n",
            "building tree 79 of 100\n",
            "building tree 80 of 100\n",
            "building tree 81 of 100\n",
            "building tree 82 of 100\n",
            "building tree 83 of 100\n",
            "building tree 84 of 100\n",
            "building tree 85 of 100\n",
            "building tree 86 of 100\n",
            "building tree 87 of 100\n",
            "building tree 88 of 100\n",
            "building tree 89 of 100\n",
            "building tree 90 of 100\n",
            "building tree 91 of 100\n",
            "building tree 92 of 100\n",
            "building tree 93 of 100\n",
            "building tree 94 of 100\n",
            "building tree 95 of 100\n",
            "building tree 96 of 100\n",
            "building tree 97 of 100\n",
            "building tree 98 of 100\n",
            "building tree 99 of 100\n",
            "building tree 100 of 100\n"
          ]
        },
        {
          "output_type": "stream",
          "name": "stderr",
          "text": [
            "[Parallel(n_jobs=-1)]: Done 100 out of 100 | elapsed:   13.9s finished\n",
            "[Parallel(n_jobs=2)]: Using backend ThreadingBackend with 2 concurrent workers.\n",
            "[Parallel(n_jobs=2)]: Done  37 tasks      | elapsed:    0.5s\n",
            "[Parallel(n_jobs=2)]: Done 100 out of 100 | elapsed:    1.6s finished\n",
            "[Parallel(n_jobs=2)]: Using backend ThreadingBackend with 2 concurrent workers.\n",
            "[Parallel(n_jobs=2)]: Done  37 tasks      | elapsed:    0.2s\n"
          ]
        },
        {
          "output_type": "stream",
          "name": "stdout",
          "text": [
            "Accuracy:\n",
            "=========\n",
            "TRAIN: 0.9199074074074074\n",
            "TEST: 0.7965488215488216\n",
            "\n",
            "Balanced Accuracy:\n",
            "==================\n",
            "TRAIN: 0.933303914155216\n",
            "TEST: 0.7151071518674502\n"
          ]
        },
        {
          "output_type": "stream",
          "name": "stderr",
          "text": [
            "[Parallel(n_jobs=2)]: Done 100 out of 100 | elapsed:    0.5s finished\n"
          ]
        },
        {
          "output_type": "execute_result",
          "data": {
            "text/plain": [
              "RandomForestClassifier(bootstrap=True, ccp_alpha=0.0, class_weight='balanced',\n",
              "                       criterion='gini', max_depth=None, max_features='auto',\n",
              "                       max_leaf_nodes=None, max_samples=None,\n",
              "                       min_impurity_decrease=0.0, min_impurity_split=None,\n",
              "                       min_samples_leaf=1, min_samples_split=10,\n",
              "                       min_weight_fraction_leaf=0.0, n_estimators=100,\n",
              "                       n_jobs=-1, oob_score=True, random_state=1, verbose=2,\n",
              "                       warm_start=False)"
            ]
          },
          "metadata": {},
          "execution_count": 376
        }
      ]
    },
    {
      "cell_type": "code",
      "metadata": {
        "colab": {
          "base_uri": "https://localhost:8080/"
        },
        "id": "-MqNlfWmiocN",
        "outputId": "10eb40b8-e684-46d4-92de-fb89aa48eb11"
      },
      "source": [
        "train_with_encoded.info()"
      ],
      "execution_count": 377,
      "outputs": [
        {
          "output_type": "stream",
          "name": "stdout",
          "text": [
            "<class 'pandas.core.frame.DataFrame'>\n",
            "Int64Index: 59400 entries, 69572 to 26348\n",
            "Data columns (total 24 columns):\n",
            " #   Column                 Non-Null Count  Dtype   \n",
            "---  ------                 --------------  -----   \n",
            " 0   funder                 59400 non-null  category\n",
            " 1   gps_height             59400 non-null  int64   \n",
            " 2   installer              59400 non-null  category\n",
            " 3   longitude              59400 non-null  float64 \n",
            " 4   latitude               59400 non-null  float64 \n",
            " 5   basin                  59400 non-null  category\n",
            " 6   region                 59400 non-null  category\n",
            " 7   district_code          59400 non-null  category\n",
            " 8   lga                    59400 non-null  category\n",
            " 9   ward                   59400 non-null  float64 \n",
            " 10  population             59400 non-null  int64   \n",
            " 11  public_meeting         59400 non-null  category\n",
            " 12  permit                 59400 non-null  category\n",
            " 13  extraction_type_group  59400 non-null  category\n",
            " 14  management             59400 non-null  category\n",
            " 15  payment                59400 non-null  category\n",
            " 16  water_quality          59400 non-null  category\n",
            " 17  quantity               59400 non-null  category\n",
            " 18  source                 59400 non-null  category\n",
            " 19  waterpoint_type        59400 non-null  category\n",
            " 20  status_group           59400 non-null  int64   \n",
            " 21  construction_decade    59400 non-null  category\n",
            " 22  PC1                    59400 non-null  float64 \n",
            " 23  PC2                    59400 non-null  float64 \n",
            "dtypes: category(16), float64(5), int64(3)\n",
            "memory usage: 7.5 MB\n"
          ]
        }
      ]
    },
    {
      "cell_type": "code",
      "metadata": {
        "colab": {
          "base_uri": "https://localhost:8080/"
        },
        "id": "tnphL2B3jDis",
        "outputId": "4ff0b066-84ca-4df6-ba05-028e5896ea08"
      },
      "source": [
        "test_with_encoded.info()"
      ],
      "execution_count": 378,
      "outputs": [
        {
          "output_type": "stream",
          "name": "stdout",
          "text": [
            "<class 'pandas.core.frame.DataFrame'>\n",
            "Int64Index: 14850 entries, 50785 to 68707\n",
            "Data columns (total 24 columns):\n",
            " #   Column                 Non-Null Count  Dtype   \n",
            "---  ------                 --------------  -----   \n",
            " 0   funder                 14850 non-null  category\n",
            " 1   gps_height             14850 non-null  int64   \n",
            " 2   installer              14850 non-null  category\n",
            " 3   longitude              14850 non-null  float64 \n",
            " 4   latitude               14850 non-null  float64 \n",
            " 5   basin                  14850 non-null  category\n",
            " 6   region                 14850 non-null  category\n",
            " 7   district_code          14850 non-null  category\n",
            " 8   lga                    14850 non-null  category\n",
            " 9   ward                   14850 non-null  float64 \n",
            " 10  population             14850 non-null  int64   \n",
            " 11  public_meeting         14850 non-null  category\n",
            " 12  permit                 14850 non-null  category\n",
            " 13  extraction_type_group  14850 non-null  category\n",
            " 14  management             14850 non-null  category\n",
            " 15  payment                14850 non-null  category\n",
            " 16  water_quality          14850 non-null  category\n",
            " 17  quantity               14850 non-null  category\n",
            " 18  source                 14850 non-null  category\n",
            " 19  waterpoint_type        14850 non-null  category\n",
            " 20  status_group           0 non-null      object  \n",
            " 21  construction_decade    14850 non-null  category\n",
            " 22  PC1                    14850 non-null  float64 \n",
            " 23  PC2                    14850 non-null  float64 \n",
            "dtypes: category(16), float64(5), int64(2), object(1)\n",
            "memory usage: 1.9+ MB\n"
          ]
        }
      ]
    },
    {
      "cell_type": "markdown",
      "metadata": {
        "id": "pW0Pw8djjakp"
      },
      "source": [
        "### Model Train"
      ]
    },
    {
      "cell_type": "code",
      "metadata": {
        "id": "Ii-AoS0Djhp8"
      },
      "source": [
        "def XGBoost_model():\n",
        "  # xgb = XGBClassifier(nthread=2, num_class=3, \n",
        "  #                       min_child_weight=3, max_depth=15,\n",
        "  #                       gamma=0.5, scale_pos_weight=0.8,\n",
        "  #                       subsample=0.7, colsample_bytree = 0.8,\n",
        "  #                       objective='multi:softmax')\n",
        "  xgb = XGBClassifier(objective = 'multi:softmax', booster = 'gbtree', nrounds = 'min.error.idx', \n",
        "                      num_class = 4, maximize = False, eval_metric = 'merror', eta = .2,\n",
        "                      max_depth = 14, colsample_bytree = .4)\n",
        "  return xgb\n"
      ],
      "execution_count": 379,
      "outputs": []
    },
    {
      "cell_type": "code",
      "metadata": {
        "colab": {
          "base_uri": "https://localhost:8080/"
        },
        "id": "J492VWrkkKn5",
        "outputId": "ea63f8a0-616b-478c-8ecc-7c7489fd36ef"
      },
      "source": [
        "X = train_with_encoded.copy()\n",
        "y = train_with_encoded[[\"status_group\"]].copy()\n",
        "X.pop('status_group')\n",
        "trained_model = score_dataset(X.copy(), y.copy(), XGBoost_model())"
      ],
      "execution_count": 380,
      "outputs": [
        {
          "output_type": "stream",
          "name": "stderr",
          "text": [
            "/usr/local/lib/python3.7/dist-packages/sklearn/preprocessing/_label.py:235: DataConversionWarning: A column-vector y was passed when a 1d array was expected. Please change the shape of y to (n_samples, ), for example using ravel().\n",
            "  y = column_or_1d(y, warn=True)\n",
            "/usr/local/lib/python3.7/dist-packages/sklearn/preprocessing/_label.py:268: DataConversionWarning: A column-vector y was passed when a 1d array was expected. Please change the shape of y to (n_samples, ), for example using ravel().\n",
            "  y = column_or_1d(y, warn=True)\n"
          ]
        },
        {
          "output_type": "stream",
          "name": "stdout",
          "text": [
            "Accuracy:\n",
            "=========\n",
            "TRAIN: 0.9298821548821549\n",
            "TEST: 0.8111111111111111\n",
            "\n",
            "Balanced Accuracy:\n",
            "==================\n",
            "TRAIN: 0.8447148633187522\n",
            "TEST: 0.6535129630464651\n"
          ]
        }
      ]
    },
    {
      "cell_type": "code",
      "metadata": {
        "id": "ATOkLDQ2sMlm"
      },
      "source": [
        "# test_with_encoded.status_group= test_with_encoded.status_group.astype(\"int64\")\n",
        "def encode_test_data(X_test):\n",
        "  for colname in X_test.select_dtypes([\"category\", \"object\"]):\n",
        "    X_dummies = pd.get_dummies(X_test[colname], drop_first=False,prefix = colname)\n",
        "    X_test = X_test.join(X_dummies)\n",
        "    X_test = X_test.drop(colname,1)\n",
        "  return X_test\n",
        "test_final_data = test_with_encoded.copy()\n",
        "test_final_data.drop(columns=['status_group'],inplace=True )\n",
        "test_final_data = encode_test_data(test_final_data)\n",
        "df = trained_model.predict(test_final_data)"
      ],
      "execution_count": 381,
      "outputs": []
    },
    {
      "cell_type": "code",
      "metadata": {
        "id": "SKKFrDi9vmxx"
      },
      "source": [
        "data = {'id': test_final_data.index, 'status_group': df}  \n",
        "submission = pd.DataFrame(data)\n",
        "target_status_group = {0:'functional',\n",
        "                       1:'functional needs repair',\n",
        "                       2:'non functional'} \n",
        "submission['status_group'] = submission['status_group'].replace(target_status_group)\n",
        "submission.to_csv('file1.csv')"
      ],
      "execution_count": 382,
      "outputs": []
    }
  ]
}